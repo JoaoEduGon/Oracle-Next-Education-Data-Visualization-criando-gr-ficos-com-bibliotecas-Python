{
 "cells": [
  {
   "cell_type": "markdown",
   "id": "6814fa71",
   "metadata": {},
   "source": [
    "Chegou a hora de você testar os conhecimentos desenvolvidos durante a aula. Nós criamos um gráfico com a função plt.plot() para analisar as intrigantes tendências de imigração do Brasil para o Canadá, no período de 1980 a 2013. Neste momento temos uma nova demanda: criar um gráfico de linhas comparando os números de imigrantes do Brasil e Argentina para o Canadá, que são os maiores países da América do Sul.\n",
    "\n",
    "Prepare-se para um mergulho fascinante nas linhas que conectam esses países da América do Sul ao território canadense. Nessa missão, a elaboração desse gráfico pode ser útil para a compreensão das tendências migratórias desses países para o Canadá ao longo do tempo e como elas se comparam entre si. Ao analisar esses fatores, podemos obter uma visão mais abrangente do cenário migratório na América do Sul.\n",
    "\n",
    "Essa nova tarefa é mais desafiadora, pois exige uma análise comparativa entre dois países. No entanto, ela também permitirá com que você obtenha uma aprendizagem enriquecedora. Por isso, explore as diversas possibilidades e lembre-se dos elementos essenciais de um gráfico: título, rótulos nos eixos x e y e os ticks do eixo x, que devem ser definidos de 5 em 5 anos.\n",
    "\n",
    "Além disso, você precisará descobrir como adicionar uma legenda para que seja possível identificar a linha de cada país. Ao seguir essas orientações, você terá construído um gráfico robusto que te permitirá uma análise significativa e aprofundada.\n",
    "\n",
    "Após criar o gráfico analise o resultado obtido e reflita nas seguintes questões:\n",
    "\n",
    "1. Há alguma tendência ou padrão comum nos dados dos dois países?\n",
    "2. Quais são os períodos com maior número de imigrantes nos dois países?"
   ]
  },
  {
   "cell_type": "code",
   "execution_count": 61,
   "id": "45e51108",
   "metadata": {},
   "outputs": [],
   "source": [
    "import pandas as pd\n",
    "import matplotlib.pyplot as plt\n",
    "import seaborn as sns"
   ]
  },
  {
   "cell_type": "code",
   "execution_count": 62,
   "id": "ee776332",
   "metadata": {},
   "outputs": [],
   "source": [
    "dados = pd.read_csv('imigrantes_canada.csv')"
   ]
  },
  {
   "cell_type": "code",
   "execution_count": 63,
   "id": "2ac017cf",
   "metadata": {},
   "outputs": [],
   "source": [
    "dados.set_index('País', inplace=True)"
   ]
  },
  {
   "cell_type": "code",
   "execution_count": 64,
   "id": "41cacf5e",
   "metadata": {},
   "outputs": [
    {
     "data": {
      "text/html": [
       "<div>\n",
       "<style scoped>\n",
       "    .dataframe tbody tr th:only-of-type {\n",
       "        vertical-align: middle;\n",
       "    }\n",
       "\n",
       "    .dataframe tbody tr th {\n",
       "        vertical-align: top;\n",
       "    }\n",
       "\n",
       "    .dataframe thead th {\n",
       "        text-align: right;\n",
       "    }\n",
       "</style>\n",
       "<table border=\"1\" class=\"dataframe\">\n",
       "  <thead>\n",
       "    <tr style=\"text-align: right;\">\n",
       "      <th></th>\n",
       "      <th>Continente</th>\n",
       "      <th>Região</th>\n",
       "      <th>1980</th>\n",
       "      <th>1981</th>\n",
       "      <th>1982</th>\n",
       "      <th>1983</th>\n",
       "      <th>1984</th>\n",
       "      <th>1985</th>\n",
       "      <th>1986</th>\n",
       "      <th>1987</th>\n",
       "      <th>...</th>\n",
       "      <th>2005</th>\n",
       "      <th>2006</th>\n",
       "      <th>2007</th>\n",
       "      <th>2008</th>\n",
       "      <th>2009</th>\n",
       "      <th>2010</th>\n",
       "      <th>2011</th>\n",
       "      <th>2012</th>\n",
       "      <th>2013</th>\n",
       "      <th>Total</th>\n",
       "    </tr>\n",
       "    <tr>\n",
       "      <th>País</th>\n",
       "      <th></th>\n",
       "      <th></th>\n",
       "      <th></th>\n",
       "      <th></th>\n",
       "      <th></th>\n",
       "      <th></th>\n",
       "      <th></th>\n",
       "      <th></th>\n",
       "      <th></th>\n",
       "      <th></th>\n",
       "      <th></th>\n",
       "      <th></th>\n",
       "      <th></th>\n",
       "      <th></th>\n",
       "      <th></th>\n",
       "      <th></th>\n",
       "      <th></th>\n",
       "      <th></th>\n",
       "      <th></th>\n",
       "      <th></th>\n",
       "      <th></th>\n",
       "    </tr>\n",
       "  </thead>\n",
       "  <tbody>\n",
       "    <tr>\n",
       "      <th>Afeganistão</th>\n",
       "      <td>Ásia</td>\n",
       "      <td>Sul da Ásia</td>\n",
       "      <td>16</td>\n",
       "      <td>39</td>\n",
       "      <td>39</td>\n",
       "      <td>47</td>\n",
       "      <td>71</td>\n",
       "      <td>340</td>\n",
       "      <td>496</td>\n",
       "      <td>741</td>\n",
       "      <td>...</td>\n",
       "      <td>3436</td>\n",
       "      <td>3009</td>\n",
       "      <td>2652</td>\n",
       "      <td>2111</td>\n",
       "      <td>1746</td>\n",
       "      <td>1758</td>\n",
       "      <td>2203</td>\n",
       "      <td>2635</td>\n",
       "      <td>2004</td>\n",
       "      <td>58639</td>\n",
       "    </tr>\n",
       "    <tr>\n",
       "      <th>Albânia</th>\n",
       "      <td>Europa</td>\n",
       "      <td>Sul da Europa</td>\n",
       "      <td>1</td>\n",
       "      <td>0</td>\n",
       "      <td>0</td>\n",
       "      <td>0</td>\n",
       "      <td>0</td>\n",
       "      <td>0</td>\n",
       "      <td>1</td>\n",
       "      <td>2</td>\n",
       "      <td>...</td>\n",
       "      <td>1223</td>\n",
       "      <td>856</td>\n",
       "      <td>702</td>\n",
       "      <td>560</td>\n",
       "      <td>716</td>\n",
       "      <td>561</td>\n",
       "      <td>539</td>\n",
       "      <td>620</td>\n",
       "      <td>603</td>\n",
       "      <td>15699</td>\n",
       "    </tr>\n",
       "    <tr>\n",
       "      <th>Argélia</th>\n",
       "      <td>África</td>\n",
       "      <td>Norte da África</td>\n",
       "      <td>80</td>\n",
       "      <td>67</td>\n",
       "      <td>71</td>\n",
       "      <td>69</td>\n",
       "      <td>63</td>\n",
       "      <td>44</td>\n",
       "      <td>69</td>\n",
       "      <td>132</td>\n",
       "      <td>...</td>\n",
       "      <td>3626</td>\n",
       "      <td>4807</td>\n",
       "      <td>3623</td>\n",
       "      <td>4005</td>\n",
       "      <td>5393</td>\n",
       "      <td>4752</td>\n",
       "      <td>4325</td>\n",
       "      <td>3774</td>\n",
       "      <td>4331</td>\n",
       "      <td>69439</td>\n",
       "    </tr>\n",
       "    <tr>\n",
       "      <th>Samoa Americana</th>\n",
       "      <td>Oceânia</td>\n",
       "      <td>Polinésia</td>\n",
       "      <td>0</td>\n",
       "      <td>1</td>\n",
       "      <td>0</td>\n",
       "      <td>0</td>\n",
       "      <td>0</td>\n",
       "      <td>0</td>\n",
       "      <td>0</td>\n",
       "      <td>1</td>\n",
       "      <td>...</td>\n",
       "      <td>0</td>\n",
       "      <td>1</td>\n",
       "      <td>0</td>\n",
       "      <td>0</td>\n",
       "      <td>0</td>\n",
       "      <td>0</td>\n",
       "      <td>0</td>\n",
       "      <td>0</td>\n",
       "      <td>0</td>\n",
       "      <td>6</td>\n",
       "    </tr>\n",
       "    <tr>\n",
       "      <th>Andorra</th>\n",
       "      <td>Europa</td>\n",
       "      <td>Sul da Europa</td>\n",
       "      <td>0</td>\n",
       "      <td>0</td>\n",
       "      <td>0</td>\n",
       "      <td>0</td>\n",
       "      <td>0</td>\n",
       "      <td>0</td>\n",
       "      <td>2</td>\n",
       "      <td>0</td>\n",
       "      <td>...</td>\n",
       "      <td>0</td>\n",
       "      <td>1</td>\n",
       "      <td>1</td>\n",
       "      <td>0</td>\n",
       "      <td>0</td>\n",
       "      <td>0</td>\n",
       "      <td>0</td>\n",
       "      <td>1</td>\n",
       "      <td>1</td>\n",
       "      <td>15</td>\n",
       "    </tr>\n",
       "    <tr>\n",
       "      <th>...</th>\n",
       "      <td>...</td>\n",
       "      <td>...</td>\n",
       "      <td>...</td>\n",
       "      <td>...</td>\n",
       "      <td>...</td>\n",
       "      <td>...</td>\n",
       "      <td>...</td>\n",
       "      <td>...</td>\n",
       "      <td>...</td>\n",
       "      <td>...</td>\n",
       "      <td>...</td>\n",
       "      <td>...</td>\n",
       "      <td>...</td>\n",
       "      <td>...</td>\n",
       "      <td>...</td>\n",
       "      <td>...</td>\n",
       "      <td>...</td>\n",
       "      <td>...</td>\n",
       "      <td>...</td>\n",
       "      <td>...</td>\n",
       "      <td>...</td>\n",
       "    </tr>\n",
       "    <tr>\n",
       "      <th>Vietnã</th>\n",
       "      <td>Ásia</td>\n",
       "      <td>Sudeste Asiático</td>\n",
       "      <td>1191</td>\n",
       "      <td>1829</td>\n",
       "      <td>2162</td>\n",
       "      <td>3404</td>\n",
       "      <td>7583</td>\n",
       "      <td>5907</td>\n",
       "      <td>2741</td>\n",
       "      <td>1406</td>\n",
       "      <td>...</td>\n",
       "      <td>1852</td>\n",
       "      <td>3153</td>\n",
       "      <td>2574</td>\n",
       "      <td>1784</td>\n",
       "      <td>2171</td>\n",
       "      <td>1942</td>\n",
       "      <td>1723</td>\n",
       "      <td>1731</td>\n",
       "      <td>2112</td>\n",
       "      <td>97146</td>\n",
       "    </tr>\n",
       "    <tr>\n",
       "      <th>Saara Ocidental</th>\n",
       "      <td>África</td>\n",
       "      <td>Norte da África</td>\n",
       "      <td>0</td>\n",
       "      <td>0</td>\n",
       "      <td>0</td>\n",
       "      <td>0</td>\n",
       "      <td>0</td>\n",
       "      <td>0</td>\n",
       "      <td>0</td>\n",
       "      <td>0</td>\n",
       "      <td>...</td>\n",
       "      <td>0</td>\n",
       "      <td>1</td>\n",
       "      <td>0</td>\n",
       "      <td>0</td>\n",
       "      <td>0</td>\n",
       "      <td>0</td>\n",
       "      <td>0</td>\n",
       "      <td>0</td>\n",
       "      <td>0</td>\n",
       "      <td>2</td>\n",
       "    </tr>\n",
       "    <tr>\n",
       "      <th>Iémen</th>\n",
       "      <td>Ásia</td>\n",
       "      <td>Ásia Ocidental</td>\n",
       "      <td>1</td>\n",
       "      <td>2</td>\n",
       "      <td>1</td>\n",
       "      <td>6</td>\n",
       "      <td>0</td>\n",
       "      <td>18</td>\n",
       "      <td>7</td>\n",
       "      <td>12</td>\n",
       "      <td>...</td>\n",
       "      <td>161</td>\n",
       "      <td>140</td>\n",
       "      <td>122</td>\n",
       "      <td>133</td>\n",
       "      <td>128</td>\n",
       "      <td>211</td>\n",
       "      <td>160</td>\n",
       "      <td>174</td>\n",
       "      <td>217</td>\n",
       "      <td>2985</td>\n",
       "    </tr>\n",
       "    <tr>\n",
       "      <th>Zâmbia</th>\n",
       "      <td>África</td>\n",
       "      <td>África Oriental</td>\n",
       "      <td>11</td>\n",
       "      <td>17</td>\n",
       "      <td>11</td>\n",
       "      <td>7</td>\n",
       "      <td>16</td>\n",
       "      <td>9</td>\n",
       "      <td>15</td>\n",
       "      <td>23</td>\n",
       "      <td>...</td>\n",
       "      <td>91</td>\n",
       "      <td>77</td>\n",
       "      <td>71</td>\n",
       "      <td>64</td>\n",
       "      <td>60</td>\n",
       "      <td>102</td>\n",
       "      <td>69</td>\n",
       "      <td>46</td>\n",
       "      <td>59</td>\n",
       "      <td>1677</td>\n",
       "    </tr>\n",
       "    <tr>\n",
       "      <th>Zimbábue</th>\n",
       "      <td>África</td>\n",
       "      <td>África Oriental</td>\n",
       "      <td>72</td>\n",
       "      <td>114</td>\n",
       "      <td>102</td>\n",
       "      <td>44</td>\n",
       "      <td>32</td>\n",
       "      <td>29</td>\n",
       "      <td>43</td>\n",
       "      <td>68</td>\n",
       "      <td>...</td>\n",
       "      <td>615</td>\n",
       "      <td>454</td>\n",
       "      <td>663</td>\n",
       "      <td>611</td>\n",
       "      <td>508</td>\n",
       "      <td>494</td>\n",
       "      <td>434</td>\n",
       "      <td>437</td>\n",
       "      <td>407</td>\n",
       "      <td>8598</td>\n",
       "    </tr>\n",
       "  </tbody>\n",
       "</table>\n",
       "<p>195 rows × 37 columns</p>\n",
       "</div>"
      ],
      "text/plain": [
       "                Continente            Região  1980  1981  1982  1983  1984  \\\n",
       "País                                                                         \n",
       "Afeganistão           Ásia       Sul da Ásia    16    39    39    47    71   \n",
       "Albânia             Europa     Sul da Europa     1     0     0     0     0   \n",
       "Argélia             África   Norte da África    80    67    71    69    63   \n",
       "Samoa Americana    Oceânia         Polinésia     0     1     0     0     0   \n",
       "Andorra             Europa     Sul da Europa     0     0     0     0     0   \n",
       "...                    ...               ...   ...   ...   ...   ...   ...   \n",
       "Vietnã                Ásia  Sudeste Asiático  1191  1829  2162  3404  7583   \n",
       "Saara Ocidental     África   Norte da África     0     0     0     0     0   \n",
       "Iémen                 Ásia    Ásia Ocidental     1     2     1     6     0   \n",
       "Zâmbia              África   África Oriental    11    17    11     7    16   \n",
       "Zimbábue            África   África Oriental    72   114   102    44    32   \n",
       "\n",
       "                 1985  1986  1987  ...  2005  2006  2007  2008  2009  2010  \\\n",
       "País                               ...                                       \n",
       "Afeganistão       340   496   741  ...  3436  3009  2652  2111  1746  1758   \n",
       "Albânia             0     1     2  ...  1223   856   702   560   716   561   \n",
       "Argélia            44    69   132  ...  3626  4807  3623  4005  5393  4752   \n",
       "Samoa Americana     0     0     1  ...     0     1     0     0     0     0   \n",
       "Andorra             0     2     0  ...     0     1     1     0     0     0   \n",
       "...               ...   ...   ...  ...   ...   ...   ...   ...   ...   ...   \n",
       "Vietnã           5907  2741  1406  ...  1852  3153  2574  1784  2171  1942   \n",
       "Saara Ocidental     0     0     0  ...     0     1     0     0     0     0   \n",
       "Iémen              18     7    12  ...   161   140   122   133   128   211   \n",
       "Zâmbia              9    15    23  ...    91    77    71    64    60   102   \n",
       "Zimbábue           29    43    68  ...   615   454   663   611   508   494   \n",
       "\n",
       "                 2011  2012  2013  Total  \n",
       "País                                      \n",
       "Afeganistão      2203  2635  2004  58639  \n",
       "Albânia           539   620   603  15699  \n",
       "Argélia          4325  3774  4331  69439  \n",
       "Samoa Americana     0     0     0      6  \n",
       "Andorra             0     1     1     15  \n",
       "...               ...   ...   ...    ...  \n",
       "Vietnã           1723  1731  2112  97146  \n",
       "Saara Ocidental     0     0     0      2  \n",
       "Iémen             160   174   217   2985  \n",
       "Zâmbia             69    46    59   1677  \n",
       "Zimbábue          434   437   407   8598  \n",
       "\n",
       "[195 rows x 37 columns]"
      ]
     },
     "execution_count": 64,
     "metadata": {},
     "output_type": "execute_result"
    }
   ],
   "source": [
    "dados"
   ]
  },
  {
   "cell_type": "code",
   "execution_count": 65,
   "id": "5e276933",
   "metadata": {},
   "outputs": [],
   "source": [
    "anos = list(map(str, range(1980, 2014)))"
   ]
  },
  {
   "cell_type": "code",
   "execution_count": 66,
   "id": "3930ba5c",
   "metadata": {},
   "outputs": [],
   "source": [
    "pais = dados.loc[['Brasil', 'Argentina'],  anos]"
   ]
  },
  {
   "cell_type": "code",
   "execution_count": 67,
   "id": "29b1c4e3",
   "metadata": {},
   "outputs": [
    {
     "data": {
      "text/html": [
       "<div>\n",
       "<style scoped>\n",
       "    .dataframe tbody tr th:only-of-type {\n",
       "        vertical-align: middle;\n",
       "    }\n",
       "\n",
       "    .dataframe tbody tr th {\n",
       "        vertical-align: top;\n",
       "    }\n",
       "\n",
       "    .dataframe thead th {\n",
       "        text-align: right;\n",
       "    }\n",
       "</style>\n",
       "<table border=\"1\" class=\"dataframe\">\n",
       "  <thead>\n",
       "    <tr style=\"text-align: right;\">\n",
       "      <th>País</th>\n",
       "      <th>Brasil</th>\n",
       "      <th>Argentina</th>\n",
       "    </tr>\n",
       "  </thead>\n",
       "  <tbody>\n",
       "    <tr>\n",
       "      <th>1980</th>\n",
       "      <td>211</td>\n",
       "      <td>368</td>\n",
       "    </tr>\n",
       "    <tr>\n",
       "      <th>1981</th>\n",
       "      <td>220</td>\n",
       "      <td>426</td>\n",
       "    </tr>\n",
       "    <tr>\n",
       "      <th>1982</th>\n",
       "      <td>192</td>\n",
       "      <td>626</td>\n",
       "    </tr>\n",
       "    <tr>\n",
       "      <th>1983</th>\n",
       "      <td>139</td>\n",
       "      <td>241</td>\n",
       "    </tr>\n",
       "    <tr>\n",
       "      <th>1984</th>\n",
       "      <td>145</td>\n",
       "      <td>237</td>\n",
       "    </tr>\n",
       "    <tr>\n",
       "      <th>1985</th>\n",
       "      <td>130</td>\n",
       "      <td>196</td>\n",
       "    </tr>\n",
       "    <tr>\n",
       "      <th>1986</th>\n",
       "      <td>205</td>\n",
       "      <td>213</td>\n",
       "    </tr>\n",
       "    <tr>\n",
       "      <th>1987</th>\n",
       "      <td>244</td>\n",
       "      <td>519</td>\n",
       "    </tr>\n",
       "    <tr>\n",
       "      <th>1988</th>\n",
       "      <td>394</td>\n",
       "      <td>374</td>\n",
       "    </tr>\n",
       "    <tr>\n",
       "      <th>1989</th>\n",
       "      <td>650</td>\n",
       "      <td>538</td>\n",
       "    </tr>\n",
       "    <tr>\n",
       "      <th>1990</th>\n",
       "      <td>650</td>\n",
       "      <td>678</td>\n",
       "    </tr>\n",
       "    <tr>\n",
       "      <th>1991</th>\n",
       "      <td>877</td>\n",
       "      <td>763</td>\n",
       "    </tr>\n",
       "    <tr>\n",
       "      <th>1992</th>\n",
       "      <td>1066</td>\n",
       "      <td>1023</td>\n",
       "    </tr>\n",
       "    <tr>\n",
       "      <th>1993</th>\n",
       "      <td>866</td>\n",
       "      <td>1022</td>\n",
       "    </tr>\n",
       "    <tr>\n",
       "      <th>1994</th>\n",
       "      <td>566</td>\n",
       "      <td>366</td>\n",
       "    </tr>\n",
       "    <tr>\n",
       "      <th>1995</th>\n",
       "      <td>572</td>\n",
       "      <td>380</td>\n",
       "    </tr>\n",
       "    <tr>\n",
       "      <th>1996</th>\n",
       "      <td>586</td>\n",
       "      <td>396</td>\n",
       "    </tr>\n",
       "    <tr>\n",
       "      <th>1997</th>\n",
       "      <td>591</td>\n",
       "      <td>391</td>\n",
       "    </tr>\n",
       "    <tr>\n",
       "      <th>1998</th>\n",
       "      <td>531</td>\n",
       "      <td>349</td>\n",
       "    </tr>\n",
       "    <tr>\n",
       "      <th>1999</th>\n",
       "      <td>626</td>\n",
       "      <td>318</td>\n",
       "    </tr>\n",
       "    <tr>\n",
       "      <th>2000</th>\n",
       "      <td>845</td>\n",
       "      <td>427</td>\n",
       "    </tr>\n",
       "    <tr>\n",
       "      <th>2001</th>\n",
       "      <td>847</td>\n",
       "      <td>635</td>\n",
       "    </tr>\n",
       "    <tr>\n",
       "      <th>2002</th>\n",
       "      <td>745</td>\n",
       "      <td>865</td>\n",
       "    </tr>\n",
       "    <tr>\n",
       "      <th>2003</th>\n",
       "      <td>839</td>\n",
       "      <td>1745</td>\n",
       "    </tr>\n",
       "    <tr>\n",
       "      <th>2004</th>\n",
       "      <td>917</td>\n",
       "      <td>1591</td>\n",
       "    </tr>\n",
       "    <tr>\n",
       "      <th>2005</th>\n",
       "      <td>969</td>\n",
       "      <td>1153</td>\n",
       "    </tr>\n",
       "    <tr>\n",
       "      <th>2006</th>\n",
       "      <td>1181</td>\n",
       "      <td>847</td>\n",
       "    </tr>\n",
       "    <tr>\n",
       "      <th>2007</th>\n",
       "      <td>1746</td>\n",
       "      <td>620</td>\n",
       "    </tr>\n",
       "    <tr>\n",
       "      <th>2008</th>\n",
       "      <td>2138</td>\n",
       "      <td>540</td>\n",
       "    </tr>\n",
       "    <tr>\n",
       "      <th>2009</th>\n",
       "      <td>2509</td>\n",
       "      <td>467</td>\n",
       "    </tr>\n",
       "    <tr>\n",
       "      <th>2010</th>\n",
       "      <td>2598</td>\n",
       "      <td>459</td>\n",
       "    </tr>\n",
       "    <tr>\n",
       "      <th>2011</th>\n",
       "      <td>1508</td>\n",
       "      <td>278</td>\n",
       "    </tr>\n",
       "    <tr>\n",
       "      <th>2012</th>\n",
       "      <td>1642</td>\n",
       "      <td>263</td>\n",
       "    </tr>\n",
       "    <tr>\n",
       "      <th>2013</th>\n",
       "      <td>1714</td>\n",
       "      <td>282</td>\n",
       "    </tr>\n",
       "  </tbody>\n",
       "</table>\n",
       "</div>"
      ],
      "text/plain": [
       "País  Brasil  Argentina\n",
       "1980     211        368\n",
       "1981     220        426\n",
       "1982     192        626\n",
       "1983     139        241\n",
       "1984     145        237\n",
       "1985     130        196\n",
       "1986     205        213\n",
       "1987     244        519\n",
       "1988     394        374\n",
       "1989     650        538\n",
       "1990     650        678\n",
       "1991     877        763\n",
       "1992    1066       1023\n",
       "1993     866       1022\n",
       "1994     566        366\n",
       "1995     572        380\n",
       "1996     586        396\n",
       "1997     591        391\n",
       "1998     531        349\n",
       "1999     626        318\n",
       "2000     845        427\n",
       "2001     847        635\n",
       "2002     745        865\n",
       "2003     839       1745\n",
       "2004     917       1591\n",
       "2005     969       1153\n",
       "2006    1181        847\n",
       "2007    1746        620\n",
       "2008    2138        540\n",
       "2009    2509        467\n",
       "2010    2598        459\n",
       "2011    1508        278\n",
       "2012    1642        263\n",
       "2013    1714        282"
      ]
     },
     "execution_count": 67,
     "metadata": {},
     "output_type": "execute_result"
    }
   ],
   "source": [
    "pais = pais.T\n",
    "pais"
   ]
  },
  {
   "cell_type": "code",
   "execution_count": 68,
   "id": "bf086485",
   "metadata": {},
   "outputs": [],
   "source": [
    "comparacao_pais = {'ano': pais.index.tolist(), 'imigrantes': pais.values.tolist()}"
   ]
  },
  {
   "cell_type": "code",
   "execution_count": 69,
   "id": "d4cab5a2",
   "metadata": {},
   "outputs": [],
   "source": [
    "comparacao = pd.DataFrame(comparacao_pais)"
   ]
  },
  {
   "cell_type": "code",
   "execution_count": 70,
   "id": "4bdbb77e",
   "metadata": {},
   "outputs": [
    {
     "data": {
      "text/html": [
       "<div>\n",
       "<style scoped>\n",
       "    .dataframe tbody tr th:only-of-type {\n",
       "        vertical-align: middle;\n",
       "    }\n",
       "\n",
       "    .dataframe tbody tr th {\n",
       "        vertical-align: top;\n",
       "    }\n",
       "\n",
       "    .dataframe thead th {\n",
       "        text-align: right;\n",
       "    }\n",
       "</style>\n",
       "<table border=\"1\" class=\"dataframe\">\n",
       "  <thead>\n",
       "    <tr style=\"text-align: right;\">\n",
       "      <th></th>\n",
       "      <th>ano</th>\n",
       "      <th>imigrantes</th>\n",
       "    </tr>\n",
       "  </thead>\n",
       "  <tbody>\n",
       "    <tr>\n",
       "      <th>0</th>\n",
       "      <td>1980</td>\n",
       "      <td>[211, 368]</td>\n",
       "    </tr>\n",
       "    <tr>\n",
       "      <th>1</th>\n",
       "      <td>1981</td>\n",
       "      <td>[220, 426]</td>\n",
       "    </tr>\n",
       "    <tr>\n",
       "      <th>2</th>\n",
       "      <td>1982</td>\n",
       "      <td>[192, 626]</td>\n",
       "    </tr>\n",
       "    <tr>\n",
       "      <th>3</th>\n",
       "      <td>1983</td>\n",
       "      <td>[139, 241]</td>\n",
       "    </tr>\n",
       "    <tr>\n",
       "      <th>4</th>\n",
       "      <td>1984</td>\n",
       "      <td>[145, 237]</td>\n",
       "    </tr>\n",
       "  </tbody>\n",
       "</table>\n",
       "</div>"
      ],
      "text/plain": [
       "    ano  imigrantes\n",
       "0  1980  [211, 368]\n",
       "1  1981  [220, 426]\n",
       "2  1982  [192, 626]\n",
       "3  1983  [139, 241]\n",
       "4  1984  [145, 237]"
      ]
     },
     "execution_count": 70,
     "metadata": {},
     "output_type": "execute_result"
    }
   ],
   "source": [
    "comparacao.head()"
   ]
  },
  {
   "cell_type": "code",
   "execution_count": 71,
   "id": "bf548d95",
   "metadata": {},
   "outputs": [
    {
     "data": {
      "text/html": [
       "<div>\n",
       "<style scoped>\n",
       "    .dataframe tbody tr th:only-of-type {\n",
       "        vertical-align: middle;\n",
       "    }\n",
       "\n",
       "    .dataframe tbody tr th {\n",
       "        vertical-align: top;\n",
       "    }\n",
       "\n",
       "    .dataframe thead th {\n",
       "        text-align: right;\n",
       "    }\n",
       "</style>\n",
       "<table border=\"1\" class=\"dataframe\">\n",
       "  <thead>\n",
       "    <tr style=\"text-align: right;\">\n",
       "      <th></th>\n",
       "      <th>ano</th>\n",
       "      <th>imigrantes</th>\n",
       "    </tr>\n",
       "  </thead>\n",
       "  <tbody>\n",
       "    <tr>\n",
       "      <th>0</th>\n",
       "      <td>1980</td>\n",
       "      <td>[211, 368]</td>\n",
       "    </tr>\n",
       "    <tr>\n",
       "      <th>1</th>\n",
       "      <td>1981</td>\n",
       "      <td>[220, 426]</td>\n",
       "    </tr>\n",
       "    <tr>\n",
       "      <th>2</th>\n",
       "      <td>1982</td>\n",
       "      <td>[192, 626]</td>\n",
       "    </tr>\n",
       "    <tr>\n",
       "      <th>3</th>\n",
       "      <td>1983</td>\n",
       "      <td>[139, 241]</td>\n",
       "    </tr>\n",
       "    <tr>\n",
       "      <th>4</th>\n",
       "      <td>1984</td>\n",
       "      <td>[145, 237]</td>\n",
       "    </tr>\n",
       "  </tbody>\n",
       "</table>\n",
       "</div>"
      ],
      "text/plain": [
       "    ano  imigrantes\n",
       "0  1980  [211, 368]\n",
       "1  1981  [220, 426]\n",
       "2  1982  [192, 626]\n",
       "3  1983  [139, 241]\n",
       "4  1984  [145, 237]"
      ]
     },
     "execution_count": 71,
     "metadata": {},
     "output_type": "execute_result"
    }
   ],
   "source": [
    "comparacao.head()"
   ]
  },
  {
   "cell_type": "code",
   "execution_count": 72,
   "id": "bc5d75e2",
   "metadata": {},
   "outputs": [
    {
     "data": {
      "image/png": "[encoded data removed]",
      "text/plain": [
       "<Figure size 640x480 with 1 Axes>"
      ]
     },
     "metadata": {},
     "output_type": "display_data"
    }
   ],
   "source": [
    "plt.Figure(figsize=(10,4))\n",
    "plt.plot(pais['Brasil'],label='Brasil')\n",
    "plt.plot(pais['Argentina'],label ='Argentina')\n",
    "plt.title('Imigração do Brasil e Argentina para o Canadá')\n",
    "plt.xlabel('Ano')\n",
    "plt.xticks(['1980', '1985', '1990', '1995', '2000', '2005', '2010'])\n",
    "plt.ylabel('Numero de imigrantes')\n",
    "plt.legend()\n",
    "plt.show()"
   ]
  },
  {
   "cell_type": "code",
   "execution_count": 73,
   "id": "48459670",
   "metadata": {},
   "outputs": [],
   "source": [
    "lojas = ['A', 'B', 'C', 'D']\n",
    "\n",
    "vendas_2022 = {'Jan': [100, 80, 150, 50],\n",
    "               'Fev': [120, 90, 170, 60],\n",
    "               'Mar': [150, 100, 200, 80],\n",
    "               'Abr': [180, 110, 230, 90],\n",
    "               'Mai': [220, 190, 350, 200],\n",
    "               'Jun': [230, 150, 280, 120],\n",
    "               'Jul': [250, 170, 300, 140],\n",
    "               'Ago': [260, 180, 310, 150],\n",
    "               'Set': [240, 160, 290, 130],\n",
    "               'Out': [220, 140, 270, 110],\n",
    "               'Nov': [400, 220, 350, 190],\n",
    "               'Dez': [300, 350, 400, 250]\n",
    "               }"
   ]
  },
  {
   "cell_type": "markdown",
   "id": "0e9aafbb",
   "metadata": {},
   "source": [
    "Você trabalha como Analista de Dados em uma empresa de varejo e recebeu a tarefa de criar uma figura com subplots que apresente a variação no número de vendas em quatro diferentes lojas ao longo de um ano. A gerência da empresa precisa visualizar de forma clara as tendências de vendas em cada loja, para que possam tomar decisões estratégicas sobre os estoques e ações de marketing. Para isso, você deve criar quatro subplots dispostos em duas linhas e duas colunas, onde cada subplot representa uma loja diferente. Nesse desafio, cada subplot deve apresentar um gráfico de linhas que mostre a variação do número de vendas ao longo dos meses do ano."
   ]
  },
  {
   "cell_type": "code",
   "execution_count": 74,
   "id": "803eed0c",
   "metadata": {},
   "outputs": [],
   "source": [
    "lojas = pd.DataFrame(vendas_2022, index=lojas)"
   ]
  },
  {
   "cell_type": "code",
   "execution_count": 75,
   "id": "9aa44cdf",
   "metadata": {},
   "outputs": [
    {
     "data": {
      "image/png": "[encoded data removed]",
      "text/plain": [
       "<Figure size 1000x600 with 4 Axes>"
      ]
     },
     "metadata": {},
     "output_type": "display_data"
    }
   ],
   "source": [
    "fig, axs = plt.subplots(2,2, figsize=(10,6))\n",
    "fig.subplots_adjust(hspace=0.5, wspace=0.3,)\n",
    "fig.suptitle('Comparação de vendas das lojas A, B, C e D no ano de 2022')\n",
    "\n",
    "\n",
    "\n",
    "axs[0,0].plot(lojas.loc['A'])\n",
    "axs[0,0].set_title('Vendas loja A')\n",
    "\n",
    "axs[0,1].plot(lojas.loc['B'])\n",
    "axs[0,1].set_title('Vendas loja B')\n",
    "\n",
    "axs[1,0].plot(lojas.loc['C'])\n",
    "axs[1,0].set_title('Vendas loja C')\n",
    "\n",
    "axs[1,1].plot(lojas.loc['D'])\n",
    "axs[1,1].set_title('Vendas loja D')\n",
    "\n",
    "for ax in axs.flat:\n",
    "    ax.set_xlabel('Mês')\n",
    "    ax.set_ylabel('Número de vendas')"
   ]
  },
  {
   "cell_type": "markdown",
   "id": "a29ae9ae",
   "metadata": {},
   "source": [
    "\n",
    "Mais uma etapa de desafio se inicia! Aproveite a oportunidade proposta e mergulhe nas possibilidades. Na aula anterior, você teve o desafio de criar uma figura com subplots que apresentam a variação no número de vendas em quatro diferentes lojas ao longo de um ano. Agora é o momento de elevar essa figura a um novo patamar! É a hora de personalizá-la! Nesta segunda parte do desafio, você deve explorar as opções de customização dos subplots para deixar a figura mais clara e atraente para a gerência da empresa.\n",
    "\n",
    "Algumas ideias de customização que você pode explorar são:\n",
    "\n",
    "- Alterar a posição dos títulos dos subplots para esquerda.\n",
    "- Aumentar o tamanho da fonte do título geral da figura para destacá-lo.\n",
    "- Aumentar o tamanho dos títulos e rótulos dos eixos dos subplots.\n",
    "- Deixar as linhas com a espessura maior.\n",
    "- Alterar a cor das linhas de cada loja para diferenciá-las ainda mais."
   ]
  },
  {
   "cell_type": "code",
   "execution_count": 76,
   "id": "84e82f48",
   "metadata": {},
   "outputs": [
    {
     "data": {
      "image/png": "[encoded data removed]",
      "text/plain": [
       "<Figure size 1400x600 with 4 Axes>"
      ]
     },
     "metadata": {},
     "output_type": "display_data"
    }
   ],
   "source": [
    "fig, axs = plt.subplots(2,2, figsize=(14,6))\n",
    "fig.suptitle('Comparação vendas lojas A, B, C e D no ano de 2022')\n",
    "fig.subplots_adjust(hspace=0.5, wspace=0.3)\n",
    "\n",
    "cores = ['orange', 'forestgreen', 'tomato', 'teal']\n",
    "\n",
    "for i, ax in enumerate(axs.flat):\n",
    "    ax.plot(lojas.loc[lojas.index[i]], color=cores[i], lw=3 )\n",
    "    ax.set_title(f'Vendas loja {lojas.index[i]}', loc='left', fontsize=12 )\n",
    "    ax.set_xlabel('Mês', fontsize=14)\n",
    "    ax.set_ylabel('Vendas', fontsize=14)\n",
    "    ax.tick_params(labelsize=12)\n",
    "    ax.grid(color='lightgrey')"
   ]
  },
  {
   "cell_type": "markdown",
   "id": "fc32ea90",
   "metadata": {},
   "source": [
    "Nesta etapa, seu desafio é criar uma figura contendo as tendências de imigração dos 4 maiores países da América latina: Brasil, Argentina, Peru e Colômbia. Através dessa criação você pode explorar diversas possibilidades e reconhecer de forma atrativa o seu processo de desenvolvimento.E não nos esqueçamos das orientações! Essa figura precisa ter uma linha para cada país, título, rótulos nos eixos, cores apropriadas, um tema da biblioteca Seaborn e legenda. Por isso, pense nas questões de acessibilidade, como tamanho das fontes e espessura das linhas. É importante escolher cores adequadas que não causem cansaço visual ou dificultem a leitura das informações. Além disso, o tamanho das fontes deve ser legível o suficiente para que as pessoas possam interpretar os dados com facilidade."
   ]
  },
  {
   "cell_type": "code",
   "execution_count": 77,
   "id": "450b777c",
   "metadata": {},
   "outputs": [
    {
     "data": {
      "image/png": "[encoded data removed]",
      "text/plain": [
       "<Figure size 800x500 with 1 Axes>"
      ]
     },
     "metadata": {},
     "output_type": "display_data"
    }
   ],
   "source": [
    "sns.set_theme()\n",
    "sns.set_palette('Dark2')\n",
    "\n",
    "fig, ax = plt.subplots(figsize=(8,5))\n",
    "ax = sns.lineplot(dados.loc['Brasil', anos], label='Brasil', lw=3 )\n",
    "ax = sns.lineplot(dados.loc['Argentina', anos], label='Argentina', lw=3)\n",
    "ax = sns.lineplot(dados.loc['Colômbia', anos], label='Colômbia', lw=3)\n",
    "ax = sns.lineplot(dados.loc['Peru', anos], label='Peru', lw=3)\n",
    "ax.set_title('Número de imigração dos quatros maiores paises \\nda america latina para o Canada 1980 a 2010', loc='left', fontsize=16)\n",
    "ax.set_xlabel('Ano ', fontsize=14)\n",
    "ax.set_ylabel('Numero de Imigrantes', fontsize=14)\n",
    "\n",
    "ax.xaxis.set_major_locator(plt.MultipleLocator(5))\n"
   ]
  },
  {
   "cell_type": "code",
   "execution_count": 78,
   "id": "9b016227",
   "metadata": {},
   "outputs": [
    {
     "data": {
      "text/html": [
       "<div>\n",
       "<style scoped>\n",
       "    .dataframe tbody tr th:only-of-type {\n",
       "        vertical-align: middle;\n",
       "    }\n",
       "\n",
       "    .dataframe tbody tr th {\n",
       "        vertical-align: top;\n",
       "    }\n",
       "\n",
       "    .dataframe thead th {\n",
       "        text-align: right;\n",
       "    }\n",
       "</style>\n",
       "<table border=\"1\" class=\"dataframe\">\n",
       "  <thead>\n",
       "    <tr style=\"text-align: right;\">\n",
       "      <th></th>\n",
       "      <th>ano</th>\n",
       "      <th>imigrantes</th>\n",
       "    </tr>\n",
       "  </thead>\n",
       "  <tbody>\n",
       "    <tr>\n",
       "      <th>0</th>\n",
       "      <td>1980</td>\n",
       "      <td>211</td>\n",
       "    </tr>\n",
       "    <tr>\n",
       "      <th>1</th>\n",
       "      <td>1981</td>\n",
       "      <td>220</td>\n",
       "    </tr>\n",
       "    <tr>\n",
       "      <th>2</th>\n",
       "      <td>1982</td>\n",
       "      <td>192</td>\n",
       "    </tr>\n",
       "    <tr>\n",
       "      <th>3</th>\n",
       "      <td>1983</td>\n",
       "      <td>139</td>\n",
       "    </tr>\n",
       "    <tr>\n",
       "      <th>4</th>\n",
       "      <td>1984</td>\n",
       "      <td>145</td>\n",
       "    </tr>\n",
       "    <tr>\n",
       "      <th>5</th>\n",
       "      <td>1985</td>\n",
       "      <td>130</td>\n",
       "    </tr>\n",
       "    <tr>\n",
       "      <th>6</th>\n",
       "      <td>1986</td>\n",
       "      <td>205</td>\n",
       "    </tr>\n",
       "    <tr>\n",
       "      <th>7</th>\n",
       "      <td>1987</td>\n",
       "      <td>244</td>\n",
       "    </tr>\n",
       "    <tr>\n",
       "      <th>8</th>\n",
       "      <td>1988</td>\n",
       "      <td>394</td>\n",
       "    </tr>\n",
       "    <tr>\n",
       "      <th>9</th>\n",
       "      <td>1989</td>\n",
       "      <td>650</td>\n",
       "    </tr>\n",
       "    <tr>\n",
       "      <th>10</th>\n",
       "      <td>1990</td>\n",
       "      <td>650</td>\n",
       "    </tr>\n",
       "    <tr>\n",
       "      <th>11</th>\n",
       "      <td>1991</td>\n",
       "      <td>877</td>\n",
       "    </tr>\n",
       "    <tr>\n",
       "      <th>12</th>\n",
       "      <td>1992</td>\n",
       "      <td>1066</td>\n",
       "    </tr>\n",
       "    <tr>\n",
       "      <th>13</th>\n",
       "      <td>1993</td>\n",
       "      <td>866</td>\n",
       "    </tr>\n",
       "    <tr>\n",
       "      <th>14</th>\n",
       "      <td>1994</td>\n",
       "      <td>566</td>\n",
       "    </tr>\n",
       "    <tr>\n",
       "      <th>15</th>\n",
       "      <td>1995</td>\n",
       "      <td>572</td>\n",
       "    </tr>\n",
       "    <tr>\n",
       "      <th>16</th>\n",
       "      <td>1996</td>\n",
       "      <td>586</td>\n",
       "    </tr>\n",
       "    <tr>\n",
       "      <th>17</th>\n",
       "      <td>1997</td>\n",
       "      <td>591</td>\n",
       "    </tr>\n",
       "    <tr>\n",
       "      <th>18</th>\n",
       "      <td>1998</td>\n",
       "      <td>531</td>\n",
       "    </tr>\n",
       "    <tr>\n",
       "      <th>19</th>\n",
       "      <td>1999</td>\n",
       "      <td>626</td>\n",
       "    </tr>\n",
       "    <tr>\n",
       "      <th>20</th>\n",
       "      <td>2000</td>\n",
       "      <td>845</td>\n",
       "    </tr>\n",
       "    <tr>\n",
       "      <th>21</th>\n",
       "      <td>2001</td>\n",
       "      <td>847</td>\n",
       "    </tr>\n",
       "    <tr>\n",
       "      <th>22</th>\n",
       "      <td>2002</td>\n",
       "      <td>745</td>\n",
       "    </tr>\n",
       "    <tr>\n",
       "      <th>23</th>\n",
       "      <td>2003</td>\n",
       "      <td>839</td>\n",
       "    </tr>\n",
       "    <tr>\n",
       "      <th>24</th>\n",
       "      <td>2004</td>\n",
       "      <td>917</td>\n",
       "    </tr>\n",
       "    <tr>\n",
       "      <th>25</th>\n",
       "      <td>2005</td>\n",
       "      <td>969</td>\n",
       "    </tr>\n",
       "    <tr>\n",
       "      <th>26</th>\n",
       "      <td>2006</td>\n",
       "      <td>1181</td>\n",
       "    </tr>\n",
       "    <tr>\n",
       "      <th>27</th>\n",
       "      <td>2007</td>\n",
       "      <td>1746</td>\n",
       "    </tr>\n",
       "    <tr>\n",
       "      <th>28</th>\n",
       "      <td>2008</td>\n",
       "      <td>2138</td>\n",
       "    </tr>\n",
       "    <tr>\n",
       "      <th>29</th>\n",
       "      <td>2009</td>\n",
       "      <td>2509</td>\n",
       "    </tr>\n",
       "    <tr>\n",
       "      <th>30</th>\n",
       "      <td>2010</td>\n",
       "      <td>2598</td>\n",
       "    </tr>\n",
       "    <tr>\n",
       "      <th>31</th>\n",
       "      <td>2011</td>\n",
       "      <td>1508</td>\n",
       "    </tr>\n",
       "    <tr>\n",
       "      <th>32</th>\n",
       "      <td>2012</td>\n",
       "      <td>1642</td>\n",
       "    </tr>\n",
       "    <tr>\n",
       "      <th>33</th>\n",
       "      <td>2013</td>\n",
       "      <td>1714</td>\n",
       "    </tr>\n",
       "  </tbody>\n",
       "</table>\n",
       "</div>"
      ],
      "text/plain": [
       "     ano  imigrantes\n",
       "0   1980         211\n",
       "1   1981         220\n",
       "2   1982         192\n",
       "3   1983         139\n",
       "4   1984         145\n",
       "5   1985         130\n",
       "6   1986         205\n",
       "7   1987         244\n",
       "8   1988         394\n",
       "9   1989         650\n",
       "10  1990         650\n",
       "11  1991         877\n",
       "12  1992        1066\n",
       "13  1993         866\n",
       "14  1994         566\n",
       "15  1995         572\n",
       "16  1996         586\n",
       "17  1997         591\n",
       "18  1998         531\n",
       "19  1999         626\n",
       "20  2000         845\n",
       "21  2001         847\n",
       "22  2002         745\n",
       "23  2003         839\n",
       "24  2004         917\n",
       "25  2005         969\n",
       "26  2006        1181\n",
       "27  2007        1746\n",
       "28  2008        2138\n",
       "29  2009        2509\n",
       "30  2010        2598\n",
       "31  2011        1508\n",
       "32  2012        1642\n",
       "33  2013        1714"
      ]
     },
     "execution_count": 78,
     "metadata": {},
     "output_type": "execute_result"
    }
   ],
   "source": [
    "brasil = dados.loc['Brasil', anos]\n",
    "brasil_dict = {'ano': brasil.index.tolist(), 'imigrantes': brasil.values.tolist()}\n",
    "\n",
    "dados_brasil = pd.DataFrame(brasil_dict)\n",
    "\n",
    "dados_brasil"
   ]
  },
  {
   "cell_type": "code",
   "execution_count": 79,
   "id": "0a52004c",
   "metadata": {},
   "outputs": [
    {
     "data": {
      "text/html": [
       "<div>\n",
       "<style scoped>\n",
       "    .dataframe tbody tr th:only-of-type {\n",
       "        vertical-align: middle;\n",
       "    }\n",
       "\n",
       "    .dataframe tbody tr th {\n",
       "        vertical-align: top;\n",
       "    }\n",
       "\n",
       "    .dataframe thead th {\n",
       "        text-align: right;\n",
       "    }\n",
       "</style>\n",
       "<table border=\"1\" class=\"dataframe\">\n",
       "  <thead>\n",
       "    <tr style=\"text-align: right;\">\n",
       "      <th></th>\n",
       "      <th>ano</th>\n",
       "      <th>imigrantes</th>\n",
       "    </tr>\n",
       "  </thead>\n",
       "  <tbody>\n",
       "    <tr>\n",
       "      <th>0</th>\n",
       "      <td>1980</td>\n",
       "      <td>211</td>\n",
       "    </tr>\n",
       "    <tr>\n",
       "      <th>1</th>\n",
       "      <td>1981</td>\n",
       "      <td>220</td>\n",
       "    </tr>\n",
       "    <tr>\n",
       "      <th>2</th>\n",
       "      <td>1982</td>\n",
       "      <td>192</td>\n",
       "    </tr>\n",
       "    <tr>\n",
       "      <th>3</th>\n",
       "      <td>1983</td>\n",
       "      <td>139</td>\n",
       "    </tr>\n",
       "    <tr>\n",
       "      <th>4</th>\n",
       "      <td>1984</td>\n",
       "      <td>145</td>\n",
       "    </tr>\n",
       "    <tr>\n",
       "      <th>5</th>\n",
       "      <td>1985</td>\n",
       "      <td>130</td>\n",
       "    </tr>\n",
       "    <tr>\n",
       "      <th>6</th>\n",
       "      <td>1986</td>\n",
       "      <td>205</td>\n",
       "    </tr>\n",
       "    <tr>\n",
       "      <th>7</th>\n",
       "      <td>1987</td>\n",
       "      <td>244</td>\n",
       "    </tr>\n",
       "    <tr>\n",
       "      <th>8</th>\n",
       "      <td>1988</td>\n",
       "      <td>394</td>\n",
       "    </tr>\n",
       "    <tr>\n",
       "      <th>9</th>\n",
       "      <td>1989</td>\n",
       "      <td>650</td>\n",
       "    </tr>\n",
       "    <tr>\n",
       "      <th>10</th>\n",
       "      <td>1990</td>\n",
       "      <td>650</td>\n",
       "    </tr>\n",
       "    <tr>\n",
       "      <th>11</th>\n",
       "      <td>1991</td>\n",
       "      <td>877</td>\n",
       "    </tr>\n",
       "    <tr>\n",
       "      <th>12</th>\n",
       "      <td>1992</td>\n",
       "      <td>1066</td>\n",
       "    </tr>\n",
       "    <tr>\n",
       "      <th>13</th>\n",
       "      <td>1993</td>\n",
       "      <td>866</td>\n",
       "    </tr>\n",
       "    <tr>\n",
       "      <th>14</th>\n",
       "      <td>1994</td>\n",
       "      <td>566</td>\n",
       "    </tr>\n",
       "    <tr>\n",
       "      <th>15</th>\n",
       "      <td>1995</td>\n",
       "      <td>572</td>\n",
       "    </tr>\n",
       "    <tr>\n",
       "      <th>16</th>\n",
       "      <td>1996</td>\n",
       "      <td>586</td>\n",
       "    </tr>\n",
       "    <tr>\n",
       "      <th>17</th>\n",
       "      <td>1997</td>\n",
       "      <td>591</td>\n",
       "    </tr>\n",
       "    <tr>\n",
       "      <th>18</th>\n",
       "      <td>1998</td>\n",
       "      <td>531</td>\n",
       "    </tr>\n",
       "    <tr>\n",
       "      <th>19</th>\n",
       "      <td>1999</td>\n",
       "      <td>626</td>\n",
       "    </tr>\n",
       "    <tr>\n",
       "      <th>20</th>\n",
       "      <td>2000</td>\n",
       "      <td>845</td>\n",
       "    </tr>\n",
       "    <tr>\n",
       "      <th>21</th>\n",
       "      <td>2001</td>\n",
       "      <td>847</td>\n",
       "    </tr>\n",
       "    <tr>\n",
       "      <th>22</th>\n",
       "      <td>2002</td>\n",
       "      <td>745</td>\n",
       "    </tr>\n",
       "    <tr>\n",
       "      <th>23</th>\n",
       "      <td>2003</td>\n",
       "      <td>839</td>\n",
       "    </tr>\n",
       "    <tr>\n",
       "      <th>24</th>\n",
       "      <td>2004</td>\n",
       "      <td>917</td>\n",
       "    </tr>\n",
       "    <tr>\n",
       "      <th>25</th>\n",
       "      <td>2005</td>\n",
       "      <td>969</td>\n",
       "    </tr>\n",
       "    <tr>\n",
       "      <th>26</th>\n",
       "      <td>2006</td>\n",
       "      <td>1181</td>\n",
       "    </tr>\n",
       "    <tr>\n",
       "      <th>27</th>\n",
       "      <td>2007</td>\n",
       "      <td>1746</td>\n",
       "    </tr>\n",
       "    <tr>\n",
       "      <th>28</th>\n",
       "      <td>2008</td>\n",
       "      <td>2138</td>\n",
       "    </tr>\n",
       "    <tr>\n",
       "      <th>29</th>\n",
       "      <td>2009</td>\n",
       "      <td>2509</td>\n",
       "    </tr>\n",
       "    <tr>\n",
       "      <th>30</th>\n",
       "      <td>2010</td>\n",
       "      <td>2598</td>\n",
       "    </tr>\n",
       "    <tr>\n",
       "      <th>31</th>\n",
       "      <td>2011</td>\n",
       "      <td>1508</td>\n",
       "    </tr>\n",
       "    <tr>\n",
       "      <th>32</th>\n",
       "      <td>2012</td>\n",
       "      <td>1642</td>\n",
       "    </tr>\n",
       "    <tr>\n",
       "      <th>33</th>\n",
       "      <td>2013</td>\n",
       "      <td>1714</td>\n",
       "    </tr>\n",
       "  </tbody>\n",
       "</table>\n",
       "</div>"
      ],
      "text/plain": [
       "     ano  imigrantes\n",
       "0   1980         211\n",
       "1   1981         220\n",
       "2   1982         192\n",
       "3   1983         139\n",
       "4   1984         145\n",
       "5   1985         130\n",
       "6   1986         205\n",
       "7   1987         244\n",
       "8   1988         394\n",
       "9   1989         650\n",
       "10  1990         650\n",
       "11  1991         877\n",
       "12  1992        1066\n",
       "13  1993         866\n",
       "14  1994         566\n",
       "15  1995         572\n",
       "16  1996         586\n",
       "17  1997         591\n",
       "18  1998         531\n",
       "19  1999         626\n",
       "20  2000         845\n",
       "21  2001         847\n",
       "22  2002         745\n",
       "23  2003         839\n",
       "24  2004         917\n",
       "25  2005         969\n",
       "26  2006        1181\n",
       "27  2007        1746\n",
       "28  2008        2138\n",
       "29  2009        2509\n",
       "30  2010        2598\n",
       "31  2011        1508\n",
       "32  2012        1642\n",
       "33  2013        1714"
      ]
     },
     "execution_count": 79,
     "metadata": {},
     "output_type": "execute_result"
    }
   ],
   "source": [
    "argentina = dados.loc['Argentina', anos]\n",
    "brargentina_dict = {'ano': brasil.index.tolist(\n",
    "), 'imigrantes': argentina.values.tolist()}\n",
    "\n",
    "dados_argentina = pd.DataFrame(brasil_dict)\n",
    "\n",
    "dados_argentina"
   ]
  },
  {
   "cell_type": "code",
   "execution_count": 80,
   "id": "be21caa2",
   "metadata": {},
   "outputs": [
    {
     "data": {
      "application/vnd.plotly.v1+json": {
       "config": {
        "plotlyServerURL": "https://plot.ly"
       },
       "data": [
        {
         "line": {
          "color": "royalblue",
          "width": 3
         },
         "mode": "lines+markers",
         "name": "Brasil",
         "type": "scatter",
         "x": [
          1980
         ],
         "y": [
          211
         ]
        },
        {
         "line": {
          "color": "firebrick",
          "width": 3
         },
         "mode": "lines+markers",
         "name": "Argentina",
         "type": "scatter",
         "x": [
          1980
         ],
         "y": [
          368
         ]
        }
       ],
       "frames": [
        {
         "data": [
          {
           "line": {
            "color": "royalblue"
           },
           "mode": "lines+markers",
           "type": "scatter",
           "x": {
            "bdata": "vAe9Bw==",
            "dtype": "i2"
           },
           "y": {
            "bdata": "0wDcAA==",
            "dtype": "i2"
           }
          },
          {
           "line": {
            "color": "firebrick"
           },
           "mode": "lines+markers",
           "type": "scatter",
           "x": {
            "bdata": "vAe9Bw==",
            "dtype": "i2"
           },
           "y": {
            "bdata": "cAGqAQ==",
            "dtype": "i2"
           }
          }
         ]
        },
        {
         "data": [
          {
           "line": {
            "color": "royalblue"
           },
           "mode": "lines+markers",
           "type": "scatter",
           "x": {
            "bdata": "vAe9B74H",
            "dtype": "i2"
           },
           "y": {
            "bdata": "0wDcAMAA",
            "dtype": "i2"
           }
          },
          {
           "line": {
            "color": "firebrick"
           },
           "mode": "lines+markers",
           "type": "scatter",
           "x": {
            "bdata": "vAe9B74H",
            "dtype": "i2"
           },
           "y": {
            "bdata": "cAGqAXIC",
            "dtype": "i2"
           }
          }
         ]
        },
        {
         "data": [
          {
           "line": {
            "color": "royalblue"
           },
           "mode": "lines+markers",
           "type": "scatter",
           "x": {
            "bdata": "vAe9B74Hvwc=",
            "dtype": "i2"
           },
           "y": {
            "bdata": "0wDcAMAAiwA=",
            "dtype": "i2"
           }
          },
          {
           "line": {
            "color": "firebrick"
           },
           "mode": "lines+markers",
           "type": "scatter",
           "x": {
            "bdata": "vAe9B74Hvwc=",
            "dtype": "i2"
           },
           "y": {
            "bdata": "cAGqAXIC8QA=",
            "dtype": "i2"
           }
          }
         ]
        },
        {
         "data": [
          {
           "line": {
            "color": "royalblue"
           },
           "mode": "lines+markers",
           "type": "scatter",
           "x": {
            "bdata": "vAe9B74HvwfABw==",
            "dtype": "i2"
           },
           "y": {
            "bdata": "0wDcAMAAiwCRAA==",
            "dtype": "i2"
           }
          },
          {
           "line": {
            "color": "firebrick"
           },
           "mode": "lines+markers",
           "type": "scatter",
           "x": {
            "bdata": "vAe9B74HvwfABw==",
            "dtype": "i2"
           },
           "y": {
            "bdata": "cAGqAXIC8QDtAA==",
            "dtype": "i2"
           }
          }
         ]
        },
        {
         "data": [
          {
           "line": {
            "color": "royalblue"
           },
           "mode": "lines+markers",
           "type": "scatter",
           "x": {
            "bdata": "vAe9B74HvwfAB8EH",
            "dtype": "i2"
           },
           "y": {
            "bdata": "0wDcAMAAiwCRAIIA",
            "dtype": "i2"
           }
          },
          {
           "line": {
            "color": "firebrick"
           },
           "mode": "lines+markers",
           "type": "scatter",
           "x": {
            "bdata": "vAe9B74HvwfAB8EH",
            "dtype": "i2"
           },
           "y": {
            "bdata": "cAGqAXIC8QDtAMQA",
            "dtype": "i2"
           }
          }
         ]
        },
        {
         "data": [
          {
           "line": {
            "color": "royalblue"
           },
           "mode": "lines+markers",
           "type": "scatter",
           "x": {
            "bdata": "vAe9B74HvwfAB8EHwgc=",
            "dtype": "i2"
           },
           "y": {
            "bdata": "0wDcAMAAiwCRAIIAzQA=",
            "dtype": "i2"
           }
          },
          {
           "line": {
            "color": "firebrick"
           },
           "mode": "lines+markers",
           "type": "scatter",
           "x": {
            "bdata": "vAe9B74HvwfAB8EHwgc=",
            "dtype": "i2"
           },
           "y": {
            "bdata": "cAGqAXIC8QDtAMQA1QA=",
            "dtype": "i2"
           }
          }
         ]
        },
        {
         "data": [
          {
           "line": {
            "color": "royalblue"
           },
           "mode": "lines+markers",
           "type": "scatter",
           "x": {
            "bdata": "vAe9B74HvwfAB8EHwgfDBw==",
            "dtype": "i2"
           },
           "y": {
            "bdata": "0wDcAMAAiwCRAIIAzQD0AA==",
            "dtype": "i2"
           }
          },
          {
           "line": {
            "color": "firebrick"
           },
           "mode": "lines+markers",
           "type": "scatter",
           "x": {
            "bdata": "vAe9B74HvwfAB8EHwgfDBw==",
            "dtype": "i2"
           },
           "y": {
            "bdata": "cAGqAXIC8QDtAMQA1QAHAg==",
            "dtype": "i2"
           }
          }
         ]
        },
        {
         "data": [
          {
           "line": {
            "color": "royalblue"
           },
           "mode": "lines+markers",
           "type": "scatter",
           "x": {
            "bdata": "vAe9B74HvwfAB8EHwgfDB8QH",
            "dtype": "i2"
           },
           "y": {
            "bdata": "0wDcAMAAiwCRAIIAzQD0AIoB",
            "dtype": "i2"
           }
          },
          {
           "line": {
            "color": "firebrick"
           },
           "mode": "lines+markers",
           "type": "scatter",
           "x": {
            "bdata": "vAe9B74HvwfAB8EHwgfDB8QH",
            "dtype": "i2"
           },
           "y": {
            "bdata": "cAGqAXIC8QDtAMQA1QAHAnYB",
            "dtype": "i2"
           }
          }
         ]
        },
        {
         "data": [
          {
           "line": {
            "color": "royalblue"
           },
           "mode": "lines+markers",
           "type": "scatter",
           "x": {
            "bdata": "vAe9B74HvwfAB8EHwgfDB8QHxQc=",
            "dtype": "i2"
           },
           "y": {
            "bdata": "0wDcAMAAiwCRAIIAzQD0AIoBigI=",
            "dtype": "i2"
           }
          },
          {
           "line": {
            "color": "firebrick"
           },
           "mode": "lines+markers",
           "type": "scatter",
           "x": {
            "bdata": "vAe9B74HvwfAB8EHwgfDB8QHxQc=",
            "dtype": "i2"
           },
           "y": {
            "bdata": "cAGqAXIC8QDtAMQA1QAHAnYBGgI=",
            "dtype": "i2"
           }
          }
         ]
        },
        {
         "data": [
          {
           "line": {
            "color": "royalblue"
           },
           "mode": "lines+markers",
           "type": "scatter",
           "x": {
            "bdata": "vAe9B74HvwfAB8EHwgfDB8QHxQfGBw==",
            "dtype": "i2"
           },
           "y": {
            "bdata": "0wDcAMAAiwCRAIIAzQD0AIoBigKKAg==",
            "dtype": "i2"
           }
          },
          {
           "line": {
            "color": "firebrick"
           },
           "mode": "lines+markers",
           "type": "scatter",
           "x": {
            "bdata": "vAe9B74HvwfAB8EHwgfDB8QHxQfGBw==",
            "dtype": "i2"
           },
           "y": {
            "bdata": "cAGqAXIC8QDtAMQA1QAHAnYBGgKmAg==",
            "dtype": "i2"
           }
          }
         ]
        },
        {
         "data": [
          {
           "line": {
            "color": "royalblue"
           },
           "mode": "lines+markers",
           "type": "scatter",
           "x": {
            "bdata": "vAe9B74HvwfAB8EHwgfDB8QHxQfGB8cH",
            "dtype": "i2"
           },
           "y": {
            "bdata": "0wDcAMAAiwCRAIIAzQD0AIoBigKKAm0D",
            "dtype": "i2"
           }
          },
          {
           "line": {
            "color": "firebrick"
           },
           "mode": "lines+markers",
           "type": "scatter",
           "x": {
            "bdata": "vAe9B74HvwfAB8EHwgfDB8QHxQfGB8cH",
            "dtype": "i2"
           },
           "y": {
            "bdata": "cAGqAXIC8QDtAMQA1QAHAnYBGgKmAvsC",
            "dtype": "i2"
           }
          }
         ]
        },
        {
         "data": [
          {
           "line": {
            "color": "royalblue"
           },
           "mode": "lines+markers",
           "type": "scatter",
           "x": {
            "bdata": "vAe9B74HvwfAB8EHwgfDB8QHxQfGB8cHyAc=",
            "dtype": "i2"
           },
           "y": {
            "bdata": "0wDcAMAAiwCRAIIAzQD0AIoBigKKAm0DKgQ=",
            "dtype": "i2"
           }
          },
          {
           "line": {
            "color": "firebrick"
           },
           "mode": "lines+markers",
           "type": "scatter",
           "x": {
            "bdata": "vAe9B74HvwfAB8EHwgfDB8QHxQfGB8cHyAc=",
            "dtype": "i2"
           },
           "y": {
            "bdata": "cAGqAXIC8QDtAMQA1QAHAnYBGgKmAvsC/wM=",
            "dtype": "i2"
           }
          }
         ]
        },
        {
         "data": [
          {
           "line": {
            "color": "royalblue"
           },
           "mode": "lines+markers",
           "type": "scatter",
           "x": {
            "bdata": "vAe9B74HvwfAB8EHwgfDB8QHxQfGB8cHyAfJBw==",
            "dtype": "i2"
           },
           "y": {
            "bdata": "0wDcAMAAiwCRAIIAzQD0AIoBigKKAm0DKgRiAw==",
            "dtype": "i2"
           }
          },
          {
           "line": {
            "color": "firebrick"
           },
           "mode": "lines+markers",
           "type": "scatter",
           "x": {
            "bdata": "vAe9B74HvwfAB8EHwgfDB8QHxQfGB8cHyAfJBw==",
            "dtype": "i2"
           },
           "y": {
            "bdata": "cAGqAXIC8QDtAMQA1QAHAnYBGgKmAvsC/wP+Aw==",
            "dtype": "i2"
           }
          }
         ]
        },
        {
         "data": [
          {
           "line": {
            "color": "royalblue"
           },
           "mode": "lines+markers",
           "type": "scatter",
           "x": {
            "bdata": "vAe9B74HvwfAB8EHwgfDB8QHxQfGB8cHyAfJB8oH",
            "dtype": "i2"
           },
           "y": {
            "bdata": "0wDcAMAAiwCRAIIAzQD0AIoBigKKAm0DKgRiAzYC",
            "dtype": "i2"
           }
          },
          {
           "line": {
            "color": "firebrick"
           },
           "mode": "lines+markers",
           "type": "scatter",
           "x": {
            "bdata": "vAe9B74HvwfAB8EHwgfDB8QHxQfGB8cHyAfJB8oH",
            "dtype": "i2"
           },
           "y": {
            "bdata": "cAGqAXIC8QDtAMQA1QAHAnYBGgKmAvsC/wP+A24B",
            "dtype": "i2"
           }
          }
         ]
        },
        {
         "data": [
          {
           "line": {
            "color": "royalblue"
           },
           "mode": "lines+markers",
           "type": "scatter",
           "x": {
            "bdata": "vAe9B74HvwfAB8EHwgfDB8QHxQfGB8cHyAfJB8oHywc=",
            "dtype": "i2"
           },
           "y": {
            "bdata": "0wDcAMAAiwCRAIIAzQD0AIoBigKKAm0DKgRiAzYCPAI=",
            "dtype": "i2"
           }
          },
          {
           "line": {
            "color": "firebrick"
           },
           "mode": "lines+markers",
           "type": "scatter",
           "x": {
            "bdata": "vAe9B74HvwfAB8EHwgfDB8QHxQfGB8cHyAfJB8oHywc=",
            "dtype": "i2"
           },
           "y": {
            "bdata": "cAGqAXIC8QDtAMQA1QAHAnYBGgKmAvsC/wP+A24BfAE=",
            "dtype": "i2"
           }
          }
         ]
        },
        {
         "data": [
          {
           "line": {
            "color": "royalblue"
           },
           "mode": "lines+markers",
           "type": "scatter",
           "x": {
            "bdata": "vAe9B74HvwfAB8EHwgfDB8QHxQfGB8cHyAfJB8oHywfMBw==",
            "dtype": "i2"
           },
           "y": {
            "bdata": "0wDcAMAAiwCRAIIAzQD0AIoBigKKAm0DKgRiAzYCPAJKAg==",
            "dtype": "i2"
           }
          },
          {
           "line": {
            "color": "firebrick"
           },
           "mode": "lines+markers",
           "type": "scatter",
           "x": {
            "bdata": "vAe9B74HvwfAB8EHwgfDB8QHxQfGB8cHyAfJB8oHywfMBw==",
            "dtype": "i2"
           },
           "y": {
            "bdata": "cAGqAXIC8QDtAMQA1QAHAnYBGgKmAvsC/wP+A24BfAGMAQ==",
            "dtype": "i2"
           }
          }
         ]
        },
        {
         "data": [
          {
           "line": {
            "color": "royalblue"
           },
           "mode": "lines+markers",
           "type": "scatter",
           "x": {
            "bdata": "vAe9B74HvwfAB8EHwgfDB8QHxQfGB8cHyAfJB8oHywfMB80H",
            "dtype": "i2"
           },
           "y": {
            "bdata": "0wDcAMAAiwCRAIIAzQD0AIoBigKKAm0DKgRiAzYCPAJKAk8C",
            "dtype": "i2"
           }
          },
          {
           "line": {
            "color": "firebrick"
           },
           "mode": "lines+markers",
           "type": "scatter",
           "x": {
            "bdata": "vAe9B74HvwfAB8EHwgfDB8QHxQfGB8cHyAfJB8oHywfMB80H",
            "dtype": "i2"
           },
           "y": {
            "bdata": "cAGqAXIC8QDtAMQA1QAHAnYBGgKmAvsC/wP+A24BfAGMAYcB",
            "dtype": "i2"
           }
          }
         ]
        },
        {
         "data": [
          {
           "line": {
            "color": "royalblue"
           },
           "mode": "lines+markers",
           "type": "scatter",
           "x": {
            "bdata": "vAe9B74HvwfAB8EHwgfDB8QHxQfGB8cHyAfJB8oHywfMB80Hzgc=",
            "dtype": "i2"
           },
           "y": {
            "bdata": "0wDcAMAAiwCRAIIAzQD0AIoBigKKAm0DKgRiAzYCPAJKAk8CEwI=",
            "dtype": "i2"
           }
          },
          {
           "line": {
            "color": "firebrick"
           },
           "mode": "lines+markers",
           "type": "scatter",
           "x": {
            "bdata": "vAe9B74HvwfAB8EHwgfDB8QHxQfGB8cHyAfJB8oHywfMB80Hzgc=",
            "dtype": "i2"
           },
           "y": {
            "bdata": "cAGqAXIC8QDtAMQA1QAHAnYBGgKmAvsC/wP+A24BfAGMAYcBXQE=",
            "dtype": "i2"
           }
          }
         ]
        },
        {
         "data": [
          {
           "line": {
            "color": "royalblue"
           },
           "mode": "lines+markers",
           "type": "scatter",
           "x": {
            "bdata": "vAe9B74HvwfAB8EHwgfDB8QHxQfGB8cHyAfJB8oHywfMB80HzgfPBw==",
            "dtype": "i2"
           },
           "y": {
            "bdata": "0wDcAMAAiwCRAIIAzQD0AIoBigKKAm0DKgRiAzYCPAJKAk8CEwJyAg==",
            "dtype": "i2"
           }
          },
          {
           "line": {
            "color": "firebrick"
           },
           "mode": "lines+markers",
           "type": "scatter",
           "x": {
            "bdata": "vAe9B74HvwfAB8EHwgfDB8QHxQfGB8cHyAfJB8oHywfMB80HzgfPBw==",
            "dtype": "i2"
           },
           "y": {
            "bdata": "cAGqAXIC8QDtAMQA1QAHAnYBGgKmAvsC/wP+A24BfAGMAYcBXQE+AQ==",
            "dtype": "i2"
           }
          }
         ]
        },
        {
         "data": [
          {
           "line": {
            "color": "royalblue"
           },
           "mode": "lines+markers",
           "type": "scatter",
           "x": {
            "bdata": "vAe9B74HvwfAB8EHwgfDB8QHxQfGB8cHyAfJB8oHywfMB80HzgfPB9AH",
            "dtype": "i2"
           },
           "y": {
            "bdata": "0wDcAMAAiwCRAIIAzQD0AIoBigKKAm0DKgRiAzYCPAJKAk8CEwJyAk0D",
            "dtype": "i2"
           }
          },
          {
           "line": {
            "color": "firebrick"
           },
           "mode": "lines+markers",
           "type": "scatter",
           "x": {
            "bdata": "vAe9B74HvwfAB8EHwgfDB8QHxQfGB8cHyAfJB8oHywfMB80HzgfPB9AH",
            "dtype": "i2"
           },
           "y": {
            "bdata": "cAGqAXIC8QDtAMQA1QAHAnYBGgKmAvsC/wP+A24BfAGMAYcBXQE+AasB",
            "dtype": "i2"
           }
          }
         ]
        },
        {
         "data": [
          {
           "line": {
            "color": "royalblue"
           },
           "mode": "lines+markers",
           "type": "scatter",
           "x": {
            "bdata": "vAe9B74HvwfAB8EHwgfDB8QHxQfGB8cHyAfJB8oHywfMB80HzgfPB9AH0Qc=",
            "dtype": "i2"
           },
           "y": {
            "bdata": "0wDcAMAAiwCRAIIAzQD0AIoBigKKAm0DKgRiAzYCPAJKAk8CEwJyAk0DTwM=",
            "dtype": "i2"
           }
          },
          {
           "line": {
            "color": "firebrick"
           },
           "mode": "lines+markers",
           "type": "scatter",
           "x": {
            "bdata": "vAe9B74HvwfAB8EHwgfDB8QHxQfGB8cHyAfJB8oHywfMB80HzgfPB9AH0Qc=",
            "dtype": "i2"
           },
           "y": {
            "bdata": "cAGqAXIC8QDtAMQA1QAHAnYBGgKmAvsC/wP+A24BfAGMAYcBXQE+AasBewI=",
            "dtype": "i2"
           }
          }
         ]
        },
        {
         "data": [
          {
           "line": {
            "color": "royalblue"
           },
           "mode": "lines+markers",
           "type": "scatter",
           "x": {
            "bdata": "vAe9B74HvwfAB8EHwgfDB8QHxQfGB8cHyAfJB8oHywfMB80HzgfPB9AH0QfSBw==",
            "dtype": "i2"
           },
           "y": {
            "bdata": "0wDcAMAAiwCRAIIAzQD0AIoBigKKAm0DKgRiAzYCPAJKAk8CEwJyAk0DTwPpAg==",
            "dtype": "i2"
           }
          },
          {
           "line": {
            "color": "firebrick"
           },
           "mode": "lines+markers",
           "type": "scatter",
           "x": {
            "bdata": "vAe9B74HvwfAB8EHwgfDB8QHxQfGB8cHyAfJB8oHywfMB80HzgfPB9AH0QfSBw==",
            "dtype": "i2"
           },
           "y": {
            "bdata": "cAGqAXIC8QDtAMQA1QAHAnYBGgKmAvsC/wP+A24BfAGMAYcBXQE+AasBewJhAw==",
            "dtype": "i2"
           }
          }
         ]
        },
        {
         "data": [
          {
           "line": {
            "color": "royalblue"
           },
           "mode": "lines+markers",
           "type": "scatter",
           "x": {
            "bdata": "vAe9B74HvwfAB8EHwgfDB8QHxQfGB8cHyAfJB8oHywfMB80HzgfPB9AH0QfSB9MH",
            "dtype": "i2"
           },
           "y": {
            "bdata": "0wDcAMAAiwCRAIIAzQD0AIoBigKKAm0DKgRiAzYCPAJKAk8CEwJyAk0DTwPpAkcD",
            "dtype": "i2"
           }
          },
          {
           "line": {
            "color": "firebrick"
           },
           "mode": "lines+markers",
           "type": "scatter",
           "x": {
            "bdata": "vAe9B74HvwfAB8EHwgfDB8QHxQfGB8cHyAfJB8oHywfMB80HzgfPB9AH0QfSB9MH",
            "dtype": "i2"
           },
           "y": {
            "bdata": "cAGqAXIC8QDtAMQA1QAHAnYBGgKmAvsC/wP+A24BfAGMAYcBXQE+AasBewJhA9EG",
            "dtype": "i2"
           }
          }
         ]
        },
        {
         "data": [
          {
           "line": {
            "color": "royalblue"
           },
           "mode": "lines+markers",
           "type": "scatter",
           "x": {
            "bdata": "vAe9B74HvwfAB8EHwgfDB8QHxQfGB8cHyAfJB8oHywfMB80HzgfPB9AH0QfSB9MH1Ac=",
            "dtype": "i2"
           },
           "y": {
            "bdata": "0wDcAMAAiwCRAIIAzQD0AIoBigKKAm0DKgRiAzYCPAJKAk8CEwJyAk0DTwPpAkcDlQM=",
            "dtype": "i2"
           }
          },
          {
           "line": {
            "color": "firebrick"
           },
           "mode": "lines+markers",
           "type": "scatter",
           "x": {
            "bdata": "vAe9B74HvwfAB8EHwgfDB8QHxQfGB8cHyAfJB8oHywfMB80HzgfPB9AH0QfSB9MH1Ac=",
            "dtype": "i2"
           },
           "y": {
            "bdata": "cAGqAXIC8QDtAMQA1QAHAnYBGgKmAvsC/wP+A24BfAGMAYcBXQE+AasBewJhA9EGNwY=",
            "dtype": "i2"
           }
          }
         ]
        },
        {
         "data": [
          {
           "line": {
            "color": "royalblue"
           },
           "mode": "lines+markers",
           "type": "scatter",
           "x": {
            "bdata": "vAe9B74HvwfAB8EHwgfDB8QHxQfGB8cHyAfJB8oHywfMB80HzgfPB9AH0QfSB9MH1AfVBw==",
            "dtype": "i2"
           },
           "y": {
            "bdata": "0wDcAMAAiwCRAIIAzQD0AIoBigKKAm0DKgRiAzYCPAJKAk8CEwJyAk0DTwPpAkcDlQPJAw==",
            "dtype": "i2"
           }
          },
          {
           "line": {
            "color": "firebrick"
           },
           "mode": "lines+markers",
           "type": "scatter",
           "x": {
            "bdata": "vAe9B74HvwfAB8EHwgfDB8QHxQfGB8cHyAfJB8oHywfMB80HzgfPB9AH0QfSB9MH1AfVBw==",
            "dtype": "i2"
           },
           "y": {
            "bdata": "cAGqAXIC8QDtAMQA1QAHAnYBGgKmAvsC/wP+A24BfAGMAYcBXQE+AasBewJhA9EGNwaBBA==",
            "dtype": "i2"
           }
          }
         ]
        },
        {
         "data": [
          {
           "line": {
            "color": "royalblue"
           },
           "mode": "lines+markers",
           "type": "scatter",
           "x": {
            "bdata": "vAe9B74HvwfAB8EHwgfDB8QHxQfGB8cHyAfJB8oHywfMB80HzgfPB9AH0QfSB9MH1AfVB9YH",
            "dtype": "i2"
           },
           "y": {
            "bdata": "0wDcAMAAiwCRAIIAzQD0AIoBigKKAm0DKgRiAzYCPAJKAk8CEwJyAk0DTwPpAkcDlQPJA50E",
            "dtype": "i2"
           }
          },
          {
           "line": {
            "color": "firebrick"
           },
           "mode": "lines+markers",
           "type": "scatter",
           "x": {
            "bdata": "vAe9B74HvwfAB8EHwgfDB8QHxQfGB8cHyAfJB8oHywfMB80HzgfPB9AH0QfSB9MH1AfVB9YH",
            "dtype": "i2"
           },
           "y": {
            "bdata": "cAGqAXIC8QDtAMQA1QAHAnYBGgKmAvsC/wP+A24BfAGMAYcBXQE+AasBewJhA9EGNwaBBE8D",
            "dtype": "i2"
           }
          }
         ]
        },
        {
         "data": [
          {
           "line": {
            "color": "royalblue"
           },
           "mode": "lines+markers",
           "type": "scatter",
           "x": {
            "bdata": "vAe9B74HvwfAB8EHwgfDB8QHxQfGB8cHyAfJB8oHywfMB80HzgfPB9AH0QfSB9MH1AfVB9YH1wc=",
            "dtype": "i2"
           },
           "y": {
            "bdata": "0wDcAMAAiwCRAIIAzQD0AIoBigKKAm0DKgRiAzYCPAJKAk8CEwJyAk0DTwPpAkcDlQPJA50E0gY=",
            "dtype": "i2"
           }
          },
          {
           "line": {
            "color": "firebrick"
           },
           "mode": "lines+markers",
           "type": "scatter",
           "x": {
            "bdata": "vAe9B74HvwfAB8EHwgfDB8QHxQfGB8cHyAfJB8oHywfMB80HzgfPB9AH0QfSB9MH1AfVB9YH1wc=",
            "dtype": "i2"
           },
           "y": {
            "bdata": "cAGqAXIC8QDtAMQA1QAHAnYBGgKmAvsC/wP+A24BfAGMAYcBXQE+AasBewJhA9EGNwaBBE8DbAI=",
            "dtype": "i2"
           }
          }
         ]
        },
        {
         "data": [
          {
           "line": {
            "color": "royalblue"
           },
           "mode": "lines+markers",
           "type": "scatter",
           "x": {
            "bdata": "vAe9B74HvwfAB8EHwgfDB8QHxQfGB8cHyAfJB8oHywfMB80HzgfPB9AH0QfSB9MH1AfVB9YH1wfYBw==",
            "dtype": "i2"
           },
           "y": {
            "bdata": "0wDcAMAAiwCRAIIAzQD0AIoBigKKAm0DKgRiAzYCPAJKAk8CEwJyAk0DTwPpAkcDlQPJA50E0gZaCA==",
            "dtype": "i2"
           }
          },
          {
           "line": {
            "color": "firebrick"
           },
           "mode": "lines+markers",
           "type": "scatter",
           "x": {
            "bdata": "vAe9B74HvwfAB8EHwgfDB8QHxQfGB8cHyAfJB8oHywfMB80HzgfPB9AH0QfSB9MH1AfVB9YH1wfYBw==",
            "dtype": "i2"
           },
           "y": {
            "bdata": "cAGqAXIC8QDtAMQA1QAHAnYBGgKmAvsC/wP+A24BfAGMAYcBXQE+AasBewJhA9EGNwaBBE8DbAIcAg==",
            "dtype": "i2"
           }
          }
         ]
        },
        {
         "data": [
          {
           "line": {
            "color": "royalblue"
           },
           "mode": "lines+markers",
           "type": "scatter",
           "x": {
            "bdata": "vAe9B74HvwfAB8EHwgfDB8QHxQfGB8cHyAfJB8oHywfMB80HzgfPB9AH0QfSB9MH1AfVB9YH1wfYB9kH",
            "dtype": "i2"
           },
           "y": {
            "bdata": "0wDcAMAAiwCRAIIAzQD0AIoBigKKAm0DKgRiAzYCPAJKAk8CEwJyAk0DTwPpAkcDlQPJA50E0gZaCM0J",
            "dtype": "i2"
           }
          },
          {
           "line": {
            "color": "firebrick"
           },
           "mode": "lines+markers",
           "type": "scatter",
           "x": {
            "bdata": "vAe9B74HvwfAB8EHwgfDB8QHxQfGB8cHyAfJB8oHywfMB80HzgfPB9AH0QfSB9MH1AfVB9YH1wfYB9kH",
            "dtype": "i2"
           },
           "y": {
            "bdata": "cAGqAXIC8QDtAMQA1QAHAnYBGgKmAvsC/wP+A24BfAGMAYcBXQE+AasBewJhA9EGNwaBBE8DbAIcAtMB",
            "dtype": "i2"
           }
          }
         ]
        },
        {
         "data": [
          {
           "line": {
            "color": "royalblue"
           },
           "mode": "lines+markers",
           "type": "scatter",
           "x": {
            "bdata": "vAe9B74HvwfAB8EHwgfDB8QHxQfGB8cHyAfJB8oHywfMB80HzgfPB9AH0QfSB9MH1AfVB9YH1wfYB9kH2gc=",
            "dtype": "i2"
           },
           "y": {
            "bdata": "0wDcAMAAiwCRAIIAzQD0AIoBigKKAm0DKgRiAzYCPAJKAk8CEwJyAk0DTwPpAkcDlQPJA50E0gZaCM0JJgo=",
            "dtype": "i2"
           }
          },
          {
           "line": {
            "color": "firebrick"
           },
           "mode": "lines+markers",
           "type": "scatter",
           "x": {
            "bdata": "vAe9B74HvwfAB8EHwgfDB8QHxQfGB8cHyAfJB8oHywfMB80HzgfPB9AH0QfSB9MH1AfVB9YH1wfYB9kH2gc=",
            "dtype": "i2"
           },
           "y": {
            "bdata": "cAGqAXIC8QDtAMQA1QAHAnYBGgKmAvsC/wP+A24BfAGMAYcBXQE+AasBewJhA9EGNwaBBE8DbAIcAtMBywE=",
            "dtype": "i2"
           }
          }
         ]
        },
        {
         "data": [
          {
           "line": {
            "color": "royalblue"
           },
           "mode": "lines+markers",
           "type": "scatter",
           "x": {
            "bdata": "vAe9B74HvwfAB8EHwgfDB8QHxQfGB8cHyAfJB8oHywfMB80HzgfPB9AH0QfSB9MH1AfVB9YH1wfYB9kH2gfbBw==",
            "dtype": "i2"
           },
           "y": {
            "bdata": "0wDcAMAAiwCRAIIAzQD0AIoBigKKAm0DKgRiAzYCPAJKAk8CEwJyAk0DTwPpAkcDlQPJA50E0gZaCM0JJgrkBQ==",
            "dtype": "i2"
           }
          },
          {
           "line": {
            "color": "firebrick"
           },
           "mode": "lines+markers",
           "type": "scatter",
           "x": {
            "bdata": "vAe9B74HvwfAB8EHwgfDB8QHxQfGB8cHyAfJB8oHywfMB80HzgfPB9AH0QfSB9MH1AfVB9YH1wfYB9kH2gfbBw==",
            "dtype": "i2"
           },
           "y": {
            "bdata": "cAGqAXIC8QDtAMQA1QAHAnYBGgKmAvsC/wP+A24BfAGMAYcBXQE+AasBewJhA9EGNwaBBE8DbAIcAtMBywEWAQ==",
            "dtype": "i2"
           }
          }
         ]
        },
        {
         "data": [
          {
           "line": {
            "color": "royalblue"
           },
           "mode": "lines+markers",
           "type": "scatter",
           "x": {
            "bdata": "vAe9B74HvwfAB8EHwgfDB8QHxQfGB8cHyAfJB8oHywfMB80HzgfPB9AH0QfSB9MH1AfVB9YH1wfYB9kH2gfbB9wH",
            "dtype": "i2"
           },
           "y": {
            "bdata": "0wDcAMAAiwCRAIIAzQD0AIoBigKKAm0DKgRiAzYCPAJKAk8CEwJyAk0DTwPpAkcDlQPJA50E0gZaCM0JJgrkBWoG",
            "dtype": "i2"
           }
          },
          {
           "line": {
            "color": "firebrick"
           },
           "mode": "lines+markers",
           "type": "scatter",
           "x": {
            "bdata": "vAe9B74HvwfAB8EHwgfDB8QHxQfGB8cHyAfJB8oHywfMB80HzgfPB9AH0QfSB9MH1AfVB9YH1wfYB9kH2gfbB9wH",
            "dtype": "i2"
           },
           "y": {
            "bdata": "cAGqAXIC8QDtAMQA1QAHAnYBGgKmAvsC/wP+A24BfAGMAYcBXQE+AasBewJhA9EGNwaBBE8DbAIcAtMBywEWAQcB",
            "dtype": "i2"
           }
          }
         ]
        },
        {
         "data": [
          {
           "line": {
            "color": "royalblue"
           },
           "mode": "lines+markers",
           "type": "scatter",
           "x": {
            "bdata": "vAe9B74HvwfAB8EHwgfDB8QHxQfGB8cHyAfJB8oHywfMB80HzgfPB9AH0QfSB9MH1AfVB9YH1wfYB9kH2gfbB9wH3Qc=",
            "dtype": "i2"
           },
           "y": {
            "bdata": "0wDcAMAAiwCRAIIAzQD0AIoBigKKAm0DKgRiAzYCPAJKAk8CEwJyAk0DTwPpAkcDlQPJA50E0gZaCM0JJgrkBWoGsgY=",
            "dtype": "i2"
           }
          },
          {
           "line": {
            "color": "firebrick"
           },
           "mode": "lines+markers",
           "type": "scatter",
           "x": {
            "bdata": "vAe9B74HvwfAB8EHwgfDB8QHxQfGB8cHyAfJB8oHywfMB80HzgfPB9AH0QfSB9MH1AfVB9YH1wfYB9kH2gfbB9wH3Qc=",
            "dtype": "i2"
           },
           "y": {
            "bdata": "cAGqAXIC8QDtAMQA1QAHAnYBGgKmAvsC/wP+A24BfAGMAYcBXQE+AasBewJhA9EGNwaBBE8DbAIcAtMBywEWAQcBGgE=",
            "dtype": "i2"
           }
          }
         ]
        }
       ],
       "layout": {
        "height": 500,
        "template": {
         "data": {
          "bar": [
           {
            "error_x": {
             "color": "#2a3f5f"
            },
            "error_y": {
             "color": "#2a3f5f"
            },
            "marker": {
             "line": {
              "color": "#E5ECF6",
              "width": 0.5
             },
             "pattern": {
              "fillmode": "overlay",
              "size": 10,
              "solidity": 0.2
             }
            },
            "type": "bar"
           }
          ],
          "barpolar": [
           {
            "marker": {
             "line": {
              "color": "#E5ECF6",
              "width": 0.5
             },
             "pattern": {
              "fillmode": "overlay",
              "size": 10,
              "solidity": 0.2
             }
            },
            "type": "barpolar"
           }
          ],
          "carpet": [
           {
            "aaxis": {
             "endlinecolor": "#2a3f5f",
             "gridcolor": "white",
             "linecolor": "white",
             "minorgridcolor": "white",
             "startlinecolor": "#2a3f5f"
            },
            "baxis": {
             "endlinecolor": "#2a3f5f",
             "gridcolor": "white",
             "linecolor": "white",
             "minorgridcolor": "white",
             "startlinecolor": "#2a3f5f"
            },
            "type": "carpet"
           }
          ],
          "choropleth": [
           {
            "colorbar": {
             "outlinewidth": 0,
             "ticks": ""
            },
            "type": "choropleth"
           }
          ],
          "contour": [
           {
            "colorbar": {
             "outlinewidth": 0,
             "ticks": ""
            },
            "colorscale": [
             [
              0,
              "#0d0887"
             ],
             [
              0.1111111111111111,
              "#46039f"
             ],
             [
              0.2222222222222222,
              "#7201a8"
             ],
             [
              0.3333333333333333,
              "#9c179e"
             ],
             [
              0.4444444444444444,
              "#bd3786"
             ],
             [
              0.5555555555555556,
              "#d8576b"
             ],
             [
              0.6666666666666666,
              "#ed7953"
             ],
             [
              0.7777777777777778,
              "#fb9f3a"
             ],
             [
              0.8888888888888888,
              "#fdca26"
             ],
             [
              1,
              "#f0f921"
             ]
            ],
            "type": "contour"
           }
          ],
          "contourcarpet": [
           {
            "colorbar": {
             "outlinewidth": 0,
             "ticks": ""
            },
            "type": "contourcarpet"
           }
          ],
          "heatmap": [
           {
            "colorbar": {
             "outlinewidth": 0,
             "ticks": ""
            },
            "colorscale": [
             [
              0,
              "#0d0887"
             ],
             [
              0.1111111111111111,
              "#46039f"
             ],
             [
              0.2222222222222222,
              "#7201a8"
             ],
             [
              0.3333333333333333,
              "#9c179e"
             ],
             [
              0.4444444444444444,
              "#bd3786"
             ],
             [
              0.5555555555555556,
              "#d8576b"
             ],
             [
              0.6666666666666666,
              "#ed7953"
             ],
             [
              0.7777777777777778,
              "#fb9f3a"
             ],
             [
              0.8888888888888888,
              "#fdca26"
             ],
             [
              1,
              "#f0f921"
             ]
            ],
            "type": "heatmap"
           }
          ],
          "histogram": [
           {
            "marker": {
             "pattern": {
              "fillmode": "overlay",
              "size": 10,
              "solidity": 0.2
             }
            },
            "type": "histogram"
           }
          ],
          "histogram2d": [
           {
            "colorbar": {
             "outlinewidth": 0,
             "ticks": ""
            },
            "colorscale": [
             [
              0,
              "#0d0887"
             ],
             [
              0.1111111111111111,
              "#46039f"
             ],
             [
              0.2222222222222222,
              "#7201a8"
             ],
             [
              0.3333333333333333,
              "#9c179e"
             ],
             [
              0.4444444444444444,
              "#bd3786"
             ],
             [
              0.5555555555555556,
              "#d8576b"
             ],
             [
              0.6666666666666666,
              "#ed7953"
             ],
             [
              0.7777777777777778,
              "#fb9f3a"
             ],
             [
              0.8888888888888888,
              "#fdca26"
             ],
             [
              1,
              "#f0f921"
             ]
            ],
            "type": "histogram2d"
           }
          ],
          "histogram2dcontour": [
           {
            "colorbar": {
             "outlinewidth": 0,
             "ticks": ""
            },
            "colorscale": [
             [
              0,
              "#0d0887"
             ],
             [
              0.1111111111111111,
              "#46039f"
             ],
             [
              0.2222222222222222,
              "#7201a8"
             ],
             [
              0.3333333333333333,
              "#9c179e"
             ],
             [
              0.4444444444444444,
              "#bd3786"
             ],
             [
              0.5555555555555556,
              "#d8576b"
             ],
             [
              0.6666666666666666,
              "#ed7953"
             ],
             [
              0.7777777777777778,
              "#fb9f3a"
             ],
             [
              0.8888888888888888,
              "#fdca26"
             ],
             [
              1,
              "#f0f921"
             ]
            ],
            "type": "histogram2dcontour"
           }
          ],
          "mesh3d": [
           {
            "colorbar": {
             "outlinewidth": 0,
             "ticks": ""
            },
            "type": "mesh3d"
           }
          ],
          "parcoords": [
           {
            "line": {
             "colorbar": {
              "outlinewidth": 0,
              "ticks": ""
             }
            },
            "type": "parcoords"
           }
          ],
          "pie": [
           {
            "automargin": true,
            "type": "pie"
           }
          ],
          "scatter": [
           {
            "fillpattern": {
             "fillmode": "overlay",
             "size": 10,
             "solidity": 0.2
            },
            "type": "scatter"
           }
          ],
          "scatter3d": [
           {
            "line": {
             "colorbar": {
              "outlinewidth": 0,
              "ticks": ""
             }
            },
            "marker": {
             "colorbar": {
              "outlinewidth": 0,
              "ticks": ""
             }
            },
            "type": "scatter3d"
           }
          ],
          "scattercarpet": [
           {
            "marker": {
             "colorbar": {
              "outlinewidth": 0,
              "ticks": ""
             }
            },
            "type": "scattercarpet"
           }
          ],
          "scattergeo": [
           {
            "marker": {
             "colorbar": {
              "outlinewidth": 0,
              "ticks": ""
             }
            },
            "type": "scattergeo"
           }
          ],
          "scattergl": [
           {
            "marker": {
             "colorbar": {
              "outlinewidth": 0,
              "ticks": ""
             }
            },
            "type": "scattergl"
           }
          ],
          "scattermap": [
           {
            "marker": {
             "colorbar": {
              "outlinewidth": 0,
              "ticks": ""
             }
            },
            "type": "scattermap"
           }
          ],
          "scattermapbox": [
           {
            "marker": {
             "colorbar": {
              "outlinewidth": 0,
              "ticks": ""
             }
            },
            "type": "scattermapbox"
           }
          ],
          "scatterpolar": [
           {
            "marker": {
             "colorbar": {
              "outlinewidth": 0,
              "ticks": ""
             }
            },
            "type": "scatterpolar"
           }
          ],
          "scatterpolargl": [
           {
            "marker": {
             "colorbar": {
              "outlinewidth": 0,
              "ticks": ""
             }
            },
            "type": "scatterpolargl"
           }
          ],
          "scatterternary": [
           {
            "marker": {
             "colorbar": {
              "outlinewidth": 0,
              "ticks": ""
             }
            },
            "type": "scatterternary"
           }
          ],
          "surface": [
           {
            "colorbar": {
             "outlinewidth": 0,
             "ticks": ""
            },
            "colorscale": [
             [
              0,
              "#0d0887"
             ],
             [
              0.1111111111111111,
              "#46039f"
             ],
             [
              0.2222222222222222,
              "#7201a8"
             ],
             [
              0.3333333333333333,
              "#9c179e"
             ],
             [
              0.4444444444444444,
              "#bd3786"
             ],
             [
              0.5555555555555556,
              "#d8576b"
             ],
             [
              0.6666666666666666,
              "#ed7953"
             ],
             [
              0.7777777777777778,
              "#fb9f3a"
             ],
             [
              0.8888888888888888,
              "#fdca26"
             ],
             [
              1,
              "#f0f921"
             ]
            ],
            "type": "surface"
           }
          ],
          "table": [
           {
            "cells": {
             "fill": {
              "color": "#EBF0F8"
             },
             "line": {
              "color": "white"
             }
            },
            "header": {
             "fill": {
              "color": "#C8D4E3"
             },
             "line": {
              "color": "white"
             }
            },
            "type": "table"
           }
          ]
         },
         "layout": {
          "annotationdefaults": {
           "arrowcolor": "#2a3f5f",
           "arrowhead": 0,
           "arrowwidth": 1
          },
          "autotypenumbers": "strict",
          "coloraxis": {
           "colorbar": {
            "outlinewidth": 0,
            "ticks": ""
           }
          },
          "colorscale": {
           "diverging": [
            [
             0,
             "#8e0152"
            ],
            [
             0.1,
             "#c51b7d"
            ],
            [
             0.2,
             "#de77ae"
            ],
            [
             0.3,
             "#f1b6da"
            ],
            [
             0.4,
             "#fde0ef"
            ],
            [
             0.5,
             "#f7f7f7"
            ],
            [
             0.6,
             "#e6f5d0"
            ],
            [
             0.7,
             "#b8e186"
            ],
            [
             0.8,
             "#7fbc41"
            ],
            [
             0.9,
             "#4d9221"
            ],
            [
             1,
             "#276419"
            ]
           ],
           "sequential": [
            [
             0,
             "#0d0887"
            ],
            [
             0.1111111111111111,
             "#46039f"
            ],
            [
             0.2222222222222222,
             "#7201a8"
            ],
            [
             0.3333333333333333,
             "#9c179e"
            ],
            [
             0.4444444444444444,
             "#bd3786"
            ],
            [
             0.5555555555555556,
             "#d8576b"
            ],
            [
             0.6666666666666666,
             "#ed7953"
            ],
            [
             0.7777777777777778,
             "#fb9f3a"
            ],
            [
             0.8888888888888888,
             "#fdca26"
            ],
            [
             1,
             "#f0f921"
            ]
           ],
           "sequentialminus": [
            [
             0,
             "#0d0887"
            ],
            [
             0.1111111111111111,
             "#46039f"
            ],
            [
             0.2222222222222222,
             "#7201a8"
            ],
            [
             0.3333333333333333,
             "#9c179e"
            ],
            [
             0.4444444444444444,
             "#bd3786"
            ],
            [
             0.5555555555555556,
             "#d8576b"
            ],
            [
             0.6666666666666666,
             "#ed7953"
            ],
            [
             0.7777777777777778,
             "#fb9f3a"
            ],
            [
             0.8888888888888888,
             "#fdca26"
            ],
            [
             1,
             "#f0f921"
            ]
           ]
          },
          "colorway": [
           "#636efa",
           "#EF553B",
           "#00cc96",
           "#ab63fa",
           "#FFA15A",
           "#19d3f3",
           "#FF6692",
           "#B6E880",
           "#FF97FF",
           "#FECB52"
          ],
          "font": {
           "color": "#2a3f5f"
          },
          "geo": {
           "bgcolor": "white",
           "lakecolor": "white",
           "landcolor": "#E5ECF6",
           "showlakes": true,
           "showland": true,
           "subunitcolor": "white"
          },
          "hoverlabel": {
           "align": "left"
          },
          "hovermode": "closest",
          "mapbox": {
           "style": "light"
          },
          "paper_bgcolor": "white",
          "plot_bgcolor": "#E5ECF6",
          "polar": {
           "angularaxis": {
            "gridcolor": "white",
            "linecolor": "white",
            "ticks": ""
           },
           "bgcolor": "#E5ECF6",
           "radialaxis": {
            "gridcolor": "white",
            "linecolor": "white",
            "ticks": ""
           }
          },
          "scene": {
           "xaxis": {
            "backgroundcolor": "#E5ECF6",
            "gridcolor": "white",
            "gridwidth": 2,
            "linecolor": "white",
            "showbackground": true,
            "ticks": "",
            "zerolinecolor": "white"
           },
           "yaxis": {
            "backgroundcolor": "#E5ECF6",
            "gridcolor": "white",
            "gridwidth": 2,
            "linecolor": "white",
            "showbackground": true,
            "ticks": "",
            "zerolinecolor": "white"
           },
           "zaxis": {
            "backgroundcolor": "#E5ECF6",
            "gridcolor": "white",
            "gridwidth": 2,
            "linecolor": "white",
            "showbackground": true,
            "ticks": "",
            "zerolinecolor": "white"
           }
          },
          "shapedefaults": {
           "line": {
            "color": "#2a3f5f"
           }
          },
          "ternary": {
           "aaxis": {
            "gridcolor": "white",
            "linecolor": "white",
            "ticks": ""
           },
           "baxis": {
            "gridcolor": "white",
            "linecolor": "white",
            "ticks": ""
           },
           "bgcolor": "#E5ECF6",
           "caxis": {
            "gridcolor": "white",
            "linecolor": "white",
            "ticks": ""
           }
          },
          "title": {
           "x": 0.05
          },
          "xaxis": {
           "automargin": true,
           "gridcolor": "white",
           "linecolor": "white",
           "ticks": "",
           "title": {
            "standoff": 15
           },
           "zerolinecolor": "white",
           "zerolinewidth": 2
          },
          "yaxis": {
           "automargin": true,
           "gridcolor": "white",
           "linecolor": "white",
           "ticks": "",
           "title": {
            "standoff": 15
           },
           "zerolinecolor": "white",
           "zerolinewidth": 2
          }
         }
        },
        "title": {
         "text": "<b>Imigração do Brasil e da Argentina para o Canadá (1980–2013)</b>"
        },
        "updatemenus": [
         {
          "buttons": [
           {
            "args": [
             null,
             {
              "frame": {
               "duration": 100,
               "redraw": true
              },
              "fromcurrent": true
             }
            ],
            "label": "Play",
            "method": "animate"
           }
          ],
          "showactive": false,
          "type": "buttons"
         }
        ],
        "width": 1000,
        "xaxis": {
         "range": [
          1980,
          2013
         ],
         "tickmode": "linear",
         "title": {
          "text": "Ano"
         }
        },
        "yaxis": {
         "range": [
          0,
          3000
         ],
         "title": {
          "text": "Número de Imigrantes"
         }
        }
       }
      }
     },
     "metadata": {},
     "output_type": "display_data"
    }
   ],
   "source": [
    "import plotly.graph_objs as go\n",
    "\n",
    "\n",
    "df = pd.read_csv(\"imigrantes_canada.csv\")\n",
    "\n",
    "# Filtrar Brasil e Argentina\n",
    "dados_brasil = df[df['País'] == 'Brasil'].iloc[0]\n",
    "dados_argentina = df[df['País'] == 'Argentina'].iloc[0]\n",
    "\n",
    "# Criar séries\n",
    "anos = list(map(str, range(1980, 2014)))\n",
    "serie_brasil = dados_brasil[anos].astype(int).reset_index()\n",
    "serie_argentina = dados_argentina[anos].astype(int).reset_index()\n",
    "serie_brasil.columns = ['ano', 'imigrantes']\n",
    "serie_argentina.columns = ['ano', 'imigrantes']\n",
    "serie_brasil['ano'] = serie_brasil['ano'].astype(int)\n",
    "serie_argentina['ano'] = serie_argentina['ano'].astype(int)\n",
    "\n",
    "# Criar a figura inicial\n",
    "fig = go.Figure()\n",
    "\n",
    "fig.add_trace(go.Scatter(\n",
    "    x=[serie_brasil['ano'].iloc[0]],\n",
    "    y=[serie_brasil['imigrantes'].iloc[0]],\n",
    "    mode='lines+markers',\n",
    "    name='Brasil',\n",
    "    line=dict(width=3, color='royalblue')\n",
    "))\n",
    "\n",
    "fig.add_trace(go.Scatter(\n",
    "    x=[serie_argentina['ano'].iloc[0]],\n",
    "    y=[serie_argentina['imigrantes'].iloc[0]],\n",
    "    mode='lines+markers',\n",
    "    name='Argentina',\n",
    "    line=dict(width=3, color='firebrick')\n",
    "))\n",
    "\n",
    "# Criar frames da animação\n",
    "frames = []\n",
    "for i in range(1, len(serie_brasil)):\n",
    "    frame = go.Frame(data=[\n",
    "        go.Scatter(\n",
    "            x=serie_brasil['ano'].iloc[:i+1],\n",
    "            y=serie_brasil['imigrantes'].iloc[:i+1],\n",
    "            mode='lines+markers',\n",
    "            line=dict(color='royalblue')\n",
    "        ),\n",
    "        go.Scatter(\n",
    "            x=serie_argentina['ano'].iloc[:i+1],\n",
    "            y=serie_argentina['imigrantes'].iloc[:i+1],\n",
    "            mode='lines+markers',\n",
    "            line=dict(color='firebrick')\n",
    "        )\n",
    "    ])\n",
    "    frames.append(frame)\n",
    "\n",
    "fig.frames = frames\n",
    "\n",
    "# Layout com botão \"Play\"\n",
    "fig.update_layout(\n",
    "    title='<b>Imigração do Brasil e da Argentina para o Canadá (1980–2013)</b>',\n",
    "    xaxis=dict(title='Ano', tickmode='linear', range=[1980, 2013]),\n",
    "    yaxis=dict(title='Número de Imigrantes', range=[0, 3000]),\n",
    "    width=1000,\n",
    "    height=500,\n",
    "    updatemenus=[dict(\n",
    "        type='buttons',\n",
    "        showactive=False,\n",
    "        buttons=[dict(\n",
    "            label='Play',\n",
    "            method='animate',\n",
    "            args=[None, {'frame': {'duration': 100,\n",
    "                                   'redraw': True}, 'fromcurrent': True}]\n",
    "        )]\n",
    "    )]\n",
    ")\n",
    "\n",
    "fig.show()"
   ]
  },
  {
   "cell_type": "code",
   "execution_count": null,
   "id": "934e7001",
   "metadata": {},
   "outputs": [],
   "source": []
  }
 ],
 "metadata": {
  "kernelspec": {
   "display_name": "Python 3",
   "language": "python",
   "name": "python3"
  },
  "language_info": {
   "codemirror_mode": {
    "name": "ipython",
    "version": 3
   },
   "file_extension": ".py",
   "mimetype": "text/x-python",
   "name": "python",
   "nbconvert_exporter": "python",
   "pygments_lexer": "ipython3",
   "version": "3.13.1"
  }
 },
 "nbformat": 4,
 "nbformat_minor": 5
}
